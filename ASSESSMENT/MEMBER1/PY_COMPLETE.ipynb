{
  "cells": [
    {
      "cell_type": "markdown",
      "metadata": {
        "id": "ZBFfk_StrF1u"
      },
      "source": [
        "# Strings"
      ]
    },
    {
      "cell_type": "code",
      "execution_count": 29,
      "metadata": {
        "id": "SjKrZ082rF1w"
      },
      "outputs": [],
      "source": [
        "var = \"welcome to python\""
      ]
    },
    {
      "cell_type": "code",
      "execution_count": 30,
      "metadata": {
        "id": "tAZBADssrF1w",
        "outputId": "d9477aed-cb8b-4c50-a0c8-28c638cf32f4",
        "colab": {
          "base_uri": "https://localhost:8080/"
        }
      },
      "outputs": [
        {
          "output_type": "stream",
          "name": "stdout",
          "text": [
            "welcome to python\n"
          ]
        }
      ],
      "source": [
        "print(var)"
      ]
    },
    {
      "cell_type": "code",
      "execution_count": 31,
      "metadata": {
        "id": "hVMV-0G3rF1x",
        "outputId": "92d199f5-5b80-4a02-e91b-91316204b624",
        "colab": {
          "base_uri": "https://localhost:8080/"
        }
      },
      "outputs": [
        {
          "output_type": "execute_result",
          "data": {
            "text/plain": [
              "str"
            ]
          },
          "metadata": {},
          "execution_count": 31
        }
      ],
      "source": [
        "type(var)"
      ]
    },
    {
      "cell_type": "code",
      "execution_count": 32,
      "metadata": {
        "id": "jK8G8htYrF1x",
        "outputId": "c9ccc0d4-622e-4d0b-d356-8e1c7a85b06c",
        "colab": {
          "base_uri": "https://localhost:8080/",
          "height": 35
        }
      },
      "outputs": [
        {
          "output_type": "execute_result",
          "data": {
            "text/plain": [
              "'c'"
            ],
            "application/vnd.google.colaboratory.intrinsic+json": {
              "type": "string"
            }
          },
          "metadata": {},
          "execution_count": 32
        }
      ],
      "source": [
        "var[3]"
      ]
    },
    {
      "cell_type": "code",
      "execution_count": 33,
      "metadata": {
        "id": "MhRegSXVrF1x",
        "outputId": "a2701488-acdb-4191-8a79-31927734300a",
        "colab": {
          "base_uri": "https://localhost:8080/",
          "height": 35
        }
      },
      "outputs": [
        {
          "output_type": "execute_result",
          "data": {
            "text/plain": [
              "' '"
            ],
            "application/vnd.google.colaboratory.intrinsic+json": {
              "type": "string"
            }
          },
          "metadata": {},
          "execution_count": 33
        }
      ],
      "source": [
        "var[7]"
      ]
    },
    {
      "cell_type": "code",
      "execution_count": 34,
      "metadata": {
        "id": "8YnNRg_0rF1y",
        "outputId": "a084e2f4-9ff4-41f3-df97-4f4d2a4137a8",
        "colab": {
          "base_uri": "https://localhost:8080/",
          "height": 35
        }
      },
      "outputs": [
        {
          "output_type": "execute_result",
          "data": {
            "text/plain": [
              "'h'"
            ],
            "application/vnd.google.colaboratory.intrinsic+json": {
              "type": "string"
            }
          },
          "metadata": {},
          "execution_count": 34
        }
      ],
      "source": [
        "var[-3]"
      ]
    },
    {
      "cell_type": "code",
      "execution_count": 35,
      "metadata": {
        "id": "_O6EwymTrF1y"
      },
      "outputs": [],
      "source": [
        "var = \"welcome to python\""
      ]
    },
    {
      "cell_type": "code",
      "execution_count": 36,
      "metadata": {
        "id": "6AAMozlurF1y",
        "outputId": "e067b501-b450-4f49-92ec-838ee84c6969",
        "colab": {
          "base_uri": "https://localhost:8080/",
          "height": 35
        }
      },
      "outputs": [
        {
          "output_type": "execute_result",
          "data": {
            "text/plain": [
              "'come to python'"
            ],
            "application/vnd.google.colaboratory.intrinsic+json": {
              "type": "string"
            }
          },
          "metadata": {},
          "execution_count": 36
        }
      ],
      "source": [
        "var[3:]"
      ]
    },
    {
      "cell_type": "code",
      "execution_count": 37,
      "metadata": {
        "id": "GmtB0XqjrF1y",
        "outputId": "b00501fb-6715-4584-aa99-b896551e1be3",
        "colab": {
          "base_uri": "https://localhost:8080/",
          "height": 35
        }
      },
      "outputs": [
        {
          "output_type": "execute_result",
          "data": {
            "text/plain": [
              "'welcome'"
            ],
            "application/vnd.google.colaboratory.intrinsic+json": {
              "type": "string"
            }
          },
          "metadata": {},
          "execution_count": 37
        }
      ],
      "source": [
        "var[:7]"
      ]
    },
    {
      "cell_type": "code",
      "execution_count": 38,
      "metadata": {
        "id": "F6OLbvPRrF1y",
        "outputId": "cb64725f-d807-491f-9f5c-250912b537e7",
        "colab": {
          "base_uri": "https://localhost:8080/",
          "height": 35
        }
      },
      "outputs": [
        {
          "output_type": "execute_result",
          "data": {
            "text/plain": [
              "'come'"
            ],
            "application/vnd.google.colaboratory.intrinsic+json": {
              "type": "string"
            }
          },
          "metadata": {},
          "execution_count": 38
        }
      ],
      "source": [
        "var[3:7]"
      ]
    },
    {
      "cell_type": "code",
      "execution_count": 39,
      "metadata": {
        "id": "_XHM9XGwrF1z",
        "outputId": "d8dbd0da-ec99-4051-e366-f00902bdd9ff",
        "colab": {
          "base_uri": "https://localhost:8080/"
        }
      },
      "outputs": [
        {
          "output_type": "execute_result",
          "data": {
            "text/plain": [
              "['__add__',\n",
              " '__class__',\n",
              " '__contains__',\n",
              " '__delattr__',\n",
              " '__dir__',\n",
              " '__doc__',\n",
              " '__eq__',\n",
              " '__format__',\n",
              " '__ge__',\n",
              " '__getattribute__',\n",
              " '__getitem__',\n",
              " '__getnewargs__',\n",
              " '__gt__',\n",
              " '__hash__',\n",
              " '__init__',\n",
              " '__init_subclass__',\n",
              " '__iter__',\n",
              " '__le__',\n",
              " '__len__',\n",
              " '__lt__',\n",
              " '__mod__',\n",
              " '__mul__',\n",
              " '__ne__',\n",
              " '__new__',\n",
              " '__reduce__',\n",
              " '__reduce_ex__',\n",
              " '__repr__',\n",
              " '__rmod__',\n",
              " '__rmul__',\n",
              " '__setattr__',\n",
              " '__sizeof__',\n",
              " '__str__',\n",
              " '__subclasshook__',\n",
              " 'capitalize',\n",
              " 'casefold',\n",
              " 'center',\n",
              " 'count',\n",
              " 'encode',\n",
              " 'endswith',\n",
              " 'expandtabs',\n",
              " 'find',\n",
              " 'format',\n",
              " 'format_map',\n",
              " 'index',\n",
              " 'isalnum',\n",
              " 'isalpha',\n",
              " 'isascii',\n",
              " 'isdecimal',\n",
              " 'isdigit',\n",
              " 'isidentifier',\n",
              " 'islower',\n",
              " 'isnumeric',\n",
              " 'isprintable',\n",
              " 'isspace',\n",
              " 'istitle',\n",
              " 'isupper',\n",
              " 'join',\n",
              " 'ljust',\n",
              " 'lower',\n",
              " 'lstrip',\n",
              " 'maketrans',\n",
              " 'partition',\n",
              " 'replace',\n",
              " 'rfind',\n",
              " 'rindex',\n",
              " 'rjust',\n",
              " 'rpartition',\n",
              " 'rsplit',\n",
              " 'rstrip',\n",
              " 'split',\n",
              " 'splitlines',\n",
              " 'startswith',\n",
              " 'strip',\n",
              " 'swapcase',\n",
              " 'title',\n",
              " 'translate',\n",
              " 'upper',\n",
              " 'zfill']"
            ]
          },
          "metadata": {},
          "execution_count": 39
        }
      ],
      "source": [
        "dir(var)"
      ]
    },
    {
      "cell_type": "code",
      "execution_count": 40,
      "metadata": {
        "id": "v_068472rF1z"
      },
      "outputs": [],
      "source": [
        "var1 = \"PYTHON\""
      ]
    },
    {
      "cell_type": "code",
      "execution_count": 41,
      "metadata": {
        "id": "whRElAeIrF1z",
        "outputId": "5f31b3ba-1fe2-4129-de45-e426922b88c7",
        "colab": {
          "base_uri": "https://localhost:8080/",
          "height": 35
        }
      },
      "outputs": [
        {
          "output_type": "execute_result",
          "data": {
            "text/plain": [
              "'Python'"
            ],
            "application/vnd.google.colaboratory.intrinsic+json": {
              "type": "string"
            }
          },
          "metadata": {},
          "execution_count": 41
        }
      ],
      "source": [
        "var1.capitalize()"
      ]
    },
    {
      "cell_type": "code",
      "execution_count": 42,
      "metadata": {
        "id": "bDnn4hFfrF1z",
        "outputId": "db38ca0f-2863-4719-9bd5-6e21756b9236",
        "colab": {
          "base_uri": "https://localhost:8080/",
          "height": 35
        }
      },
      "outputs": [
        {
          "output_type": "execute_result",
          "data": {
            "text/plain": [
              "'PYTHON'"
            ],
            "application/vnd.google.colaboratory.intrinsic+json": {
              "type": "string"
            }
          },
          "metadata": {},
          "execution_count": 42
        }
      ],
      "source": [
        "var1"
      ]
    },
    {
      "cell_type": "code",
      "execution_count": 43,
      "metadata": {
        "id": "KxTAi9TxrF1z",
        "outputId": "1452cdbf-a784-421b-9837-1618db19bf71",
        "colab": {
          "base_uri": "https://localhost:8080/",
          "height": 35
        }
      },
      "outputs": [
        {
          "output_type": "execute_result",
          "data": {
            "text/plain": [
              "'python'"
            ],
            "application/vnd.google.colaboratory.intrinsic+json": {
              "type": "string"
            }
          },
          "metadata": {},
          "execution_count": 43
        }
      ],
      "source": [
        "var1.casefold()"
      ]
    },
    {
      "cell_type": "code",
      "execution_count": 44,
      "metadata": {
        "id": "5WZBbx3UrF1z"
      },
      "outputs": [],
      "source": [
        "var = \"welcome to python\""
      ]
    },
    {
      "cell_type": "code",
      "execution_count": 45,
      "metadata": {
        "id": "u_z9pY-hrF1z",
        "outputId": "653cd415-8246-43f8-a4f6-bef1fd8fb232",
        "colab": {
          "base_uri": "https://localhost:8080/"
        }
      },
      "outputs": [
        {
          "output_type": "execute_result",
          "data": {
            "text/plain": [
              "['welcome', 'to', 'python']"
            ]
          },
          "metadata": {},
          "execution_count": 45
        }
      ],
      "source": [
        "var.split()"
      ]
    },
    {
      "cell_type": "code",
      "execution_count": 46,
      "metadata": {
        "id": "rWXOsUW8rF10",
        "outputId": "b17fd271-38af-4f82-dbd1-25c8ede53d5e",
        "colab": {
          "base_uri": "https://localhost:8080/"
        }
      },
      "outputs": [
        {
          "output_type": "execute_result",
          "data": {
            "text/plain": [
              "['w', 'lcom', ' to python']"
            ]
          },
          "metadata": {},
          "execution_count": 46
        }
      ],
      "source": [
        "var.split('e')"
      ]
    },
    {
      "cell_type": "code",
      "execution_count": 47,
      "metadata": {
        "id": "C60PNWbfrF10",
        "outputId": "4779472f-a530-434a-8b17-29555a4a70ae",
        "colab": {
          "base_uri": "https://localhost:8080/"
        }
      },
      "outputs": [
        {
          "output_type": "execute_result",
          "data": {
            "text/plain": [
              "0"
            ]
          },
          "metadata": {},
          "execution_count": 47
        }
      ],
      "source": [
        "var.count('x')"
      ]
    },
    {
      "cell_type": "code",
      "execution_count": 48,
      "metadata": {
        "id": "itJjGahArF10",
        "outputId": "d520e664-b8ca-49f8-a29b-61d2497094c3",
        "colab": {
          "base_uri": "https://localhost:8080/"
        }
      },
      "outputs": [
        {
          "output_type": "execute_result",
          "data": {
            "text/plain": [
              "1"
            ]
          },
          "metadata": {},
          "execution_count": 48
        }
      ],
      "source": [
        "var.find('e')"
      ]
    },
    {
      "cell_type": "markdown",
      "metadata": {
        "id": "BKqAKOr9rF10"
      },
      "source": [
        "### List"
      ]
    },
    {
      "cell_type": "code",
      "execution_count": 49,
      "metadata": {
        "id": "8GHKHwDsrF10"
      },
      "outputs": [],
      "source": [
        "l = [2,5.6,\"hi\",45]"
      ]
    },
    {
      "cell_type": "code",
      "execution_count": 50,
      "metadata": {
        "id": "jTbXZZLZrF10",
        "outputId": "617a94c8-2a9a-4fbb-c847-2a38f0c3883e",
        "colab": {
          "base_uri": "https://localhost:8080/"
        }
      },
      "outputs": [
        {
          "output_type": "stream",
          "name": "stdout",
          "text": [
            "[2, 5.6, 'hi', 45]\n"
          ]
        }
      ],
      "source": [
        "print(l)"
      ]
    },
    {
      "cell_type": "code",
      "execution_count": 51,
      "metadata": {
        "id": "kOlBpSscrF10",
        "outputId": "13361095-ce78-44af-e85e-6ae2b8d3b011",
        "colab": {
          "base_uri": "https://localhost:8080/"
        }
      },
      "outputs": [
        {
          "output_type": "execute_result",
          "data": {
            "text/plain": [
              "list"
            ]
          },
          "metadata": {},
          "execution_count": 51
        }
      ],
      "source": [
        "type(l)"
      ]
    },
    {
      "cell_type": "code",
      "execution_count": 52,
      "metadata": {
        "id": "fjxYXE6mrF11",
        "outputId": "0a45ecae-9e37-4044-a667-73e9a6e2468d",
        "colab": {
          "base_uri": "https://localhost:8080/"
        }
      },
      "outputs": [
        {
          "output_type": "execute_result",
          "data": {
            "text/plain": [
              "5.6"
            ]
          },
          "metadata": {},
          "execution_count": 52
        }
      ],
      "source": [
        "l[1]"
      ]
    },
    {
      "cell_type": "code",
      "execution_count": 53,
      "metadata": {
        "id": "aMnx0bWBrF11",
        "outputId": "de9eed9d-b810-4554-da0c-febf16ad7446",
        "colab": {
          "base_uri": "https://localhost:8080/"
        }
      },
      "outputs": [
        {
          "output_type": "execute_result",
          "data": {
            "text/plain": [
              "45"
            ]
          },
          "metadata": {},
          "execution_count": 53
        }
      ],
      "source": [
        "l[3]"
      ]
    },
    {
      "cell_type": "code",
      "execution_count": 54,
      "metadata": {
        "id": "qlTD9EaQrF11",
        "outputId": "a3b9fbdb-08d8-4429-aca1-b19cdac56b88",
        "colab": {
          "base_uri": "https://localhost:8080/"
        }
      },
      "outputs": [
        {
          "output_type": "execute_result",
          "data": {
            "text/plain": [
              "[5.6, 'hi']"
            ]
          },
          "metadata": {},
          "execution_count": 54
        }
      ],
      "source": [
        "l[1:3]"
      ]
    },
    {
      "cell_type": "code",
      "execution_count": 55,
      "metadata": {
        "id": "zehrUMAJrF11"
      },
      "outputs": [],
      "source": [
        "l[1]=\"hello\""
      ]
    },
    {
      "cell_type": "code",
      "execution_count": 56,
      "metadata": {
        "id": "kdG0z7OsrF11"
      },
      "outputs": [],
      "source": [
        "#mutable => we can change the values of the list"
      ]
    },
    {
      "cell_type": "code",
      "execution_count": 57,
      "metadata": {
        "id": "KnmMyLX9rF12"
      },
      "outputs": [],
      "source": [
        "l.append(34)"
      ]
    },
    {
      "cell_type": "code",
      "execution_count": 58,
      "metadata": {
        "id": "hOPAX3H_rF12",
        "outputId": "5c2e4ee7-7554-442b-90cb-479e28575a96",
        "colab": {
          "base_uri": "https://localhost:8080/"
        }
      },
      "outputs": [
        {
          "output_type": "execute_result",
          "data": {
            "text/plain": [
              "[2, 'hello', 'hi', 45, 34]"
            ]
          },
          "metadata": {},
          "execution_count": 58
        }
      ],
      "source": [
        "l"
      ]
    },
    {
      "cell_type": "code",
      "execution_count": 59,
      "metadata": {
        "id": "Y5SL67-grF12",
        "outputId": "b7d22d9a-a204-4e63-d871-66e3ca764dd9",
        "colab": {
          "base_uri": "https://localhost:8080/"
        }
      },
      "outputs": [
        {
          "output_type": "execute_result",
          "data": {
            "text/plain": [
              "1"
            ]
          },
          "metadata": {},
          "execution_count": 59
        }
      ],
      "source": [
        "l.count(45)"
      ]
    },
    {
      "cell_type": "code",
      "execution_count": 60,
      "metadata": {
        "id": "oe1pnJNSrF12"
      },
      "outputs": [],
      "source": [
        "l.extend((1,4,8))"
      ]
    },
    {
      "cell_type": "code",
      "execution_count": 61,
      "metadata": {
        "id": "BGkg-ydKrF12",
        "outputId": "5343c90b-e341-4066-f19a-4409d1e8fa5c",
        "colab": {
          "base_uri": "https://localhost:8080/"
        }
      },
      "outputs": [
        {
          "output_type": "execute_result",
          "data": {
            "text/plain": [
              "[2, 'hello', 'hi', 45, 34, 1, 4, 8]"
            ]
          },
          "metadata": {},
          "execution_count": 61
        }
      ],
      "source": [
        "l"
      ]
    },
    {
      "cell_type": "code",
      "execution_count": 62,
      "metadata": {
        "id": "idULUmL3rF12"
      },
      "outputs": [],
      "source": [
        "l.append([1,3,5])"
      ]
    },
    {
      "cell_type": "code",
      "execution_count": 63,
      "metadata": {
        "id": "_9KfvlUkrF12",
        "outputId": "ea9d8c73-e7bf-4858-f924-c2fe9603982a",
        "colab": {
          "base_uri": "https://localhost:8080/"
        }
      },
      "outputs": [
        {
          "output_type": "execute_result",
          "data": {
            "text/plain": [
              "[2, 'hello', 'hi', 45, 34, 1, 4, 8, [1, 3, 5]]"
            ]
          },
          "metadata": {},
          "execution_count": 63
        }
      ],
      "source": [
        "l"
      ]
    },
    {
      "cell_type": "code",
      "execution_count": 64,
      "metadata": {
        "id": "Rec80bFirF12"
      },
      "outputs": [],
      "source": [
        "l.remove('hi')"
      ]
    },
    {
      "cell_type": "code",
      "execution_count": 65,
      "metadata": {
        "id": "l99cSZPUrF13",
        "outputId": "1e82b43c-a3fb-4b20-cab7-0a7432911279",
        "colab": {
          "base_uri": "https://localhost:8080/"
        }
      },
      "outputs": [
        {
          "output_type": "execute_result",
          "data": {
            "text/plain": [
              "[2, 'hello', 45, 34, 1, 4, 8, [1, 3, 5]]"
            ]
          },
          "metadata": {},
          "execution_count": 65
        }
      ],
      "source": [
        "l"
      ]
    },
    {
      "cell_type": "code",
      "execution_count": 66,
      "metadata": {
        "id": "ZbGUcj1ArF13"
      },
      "outputs": [],
      "source": [
        "l.clear()"
      ]
    },
    {
      "cell_type": "code",
      "execution_count": 67,
      "metadata": {
        "id": "OcOq4fILrF13",
        "outputId": "b848b8e3-2901-4db1-c032-b6cba5222f40",
        "colab": {
          "base_uri": "https://localhost:8080/"
        }
      },
      "outputs": [
        {
          "output_type": "execute_result",
          "data": {
            "text/plain": [
              "[]"
            ]
          },
          "metadata": {},
          "execution_count": 67
        }
      ],
      "source": [
        "l"
      ]
    },
    {
      "cell_type": "markdown",
      "metadata": {
        "id": "o31NhehqrF13"
      },
      "source": [
        "### Tuple"
      ]
    },
    {
      "cell_type": "code",
      "execution_count": 68,
      "metadata": {
        "id": "OZdiyBrxrF13"
      },
      "outputs": [],
      "source": [
        "#tuple is immutable"
      ]
    },
    {
      "cell_type": "code",
      "execution_count": 69,
      "metadata": {
        "id": "zxz3f6SqrF13"
      },
      "outputs": [],
      "source": [
        "t = (1,5.6,\"test\")"
      ]
    },
    {
      "cell_type": "code",
      "execution_count": 70,
      "metadata": {
        "id": "aG1PjAW8rF13",
        "outputId": "023fc5b5-4634-4373-8bd1-74109b8e6f8a",
        "colab": {
          "base_uri": "https://localhost:8080/"
        }
      },
      "outputs": [
        {
          "output_type": "execute_result",
          "data": {
            "text/plain": [
              "(1, 5.6, 'test')"
            ]
          },
          "metadata": {},
          "execution_count": 70
        }
      ],
      "source": [
        "t"
      ]
    },
    {
      "cell_type": "code",
      "execution_count": 71,
      "metadata": {
        "id": "JH0yjKiMrF13",
        "outputId": "84787751-b8db-4429-b160-20718b3cc642",
        "colab": {
          "base_uri": "https://localhost:8080/"
        }
      },
      "outputs": [
        {
          "output_type": "execute_result",
          "data": {
            "text/plain": [
              "tuple"
            ]
          },
          "metadata": {},
          "execution_count": 71
        }
      ],
      "source": [
        "type(t)"
      ]
    },
    {
      "cell_type": "code",
      "execution_count": 72,
      "metadata": {
        "id": "ppWw36QHrF13",
        "outputId": "23b247a0-4b19-402f-8792-8bf5469add53",
        "colab": {
          "base_uri": "https://localhost:8080/"
        }
      },
      "outputs": [
        {
          "output_type": "execute_result",
          "data": {
            "text/plain": [
              "5.6"
            ]
          },
          "metadata": {},
          "execution_count": 72
        }
      ],
      "source": [
        "t[1]"
      ]
    },
    {
      "cell_type": "code",
      "execution_count": 73,
      "metadata": {
        "id": "ZrpNVpNNrF13",
        "outputId": "2287b79b-c8aa-4049-af60-5d4da1dd6bbf",
        "colab": {
          "base_uri": "https://localhost:8080/"
        }
      },
      "outputs": [
        {
          "output_type": "execute_result",
          "data": {
            "text/plain": [
              "1"
            ]
          },
          "metadata": {},
          "execution_count": 73
        }
      ],
      "source": [
        "t.count(1)"
      ]
    },
    {
      "cell_type": "code",
      "execution_count": 74,
      "metadata": {
        "id": "BzbV_7nsrF14",
        "outputId": "6e15e967-4503-4967-9513-ed10a017975c",
        "colab": {
          "base_uri": "https://localhost:8080/"
        }
      },
      "outputs": [
        {
          "output_type": "execute_result",
          "data": {
            "text/plain": [
              "2"
            ]
          },
          "metadata": {},
          "execution_count": 74
        }
      ],
      "source": [
        "t.index('test')"
      ]
    },
    {
      "cell_type": "markdown",
      "metadata": {
        "id": "8gb4lkYwrF14"
      },
      "source": [
        "### Dictionary"
      ]
    },
    {
      "cell_type": "code",
      "execution_count": 75,
      "metadata": {
        "id": "RbGx1LNnrF14"
      },
      "outputs": [],
      "source": [
        "#store the data in key,value pair format"
      ]
    },
    {
      "cell_type": "code",
      "execution_count": 76,
      "metadata": {
        "id": "cvd27okIrF14"
      },
      "outputs": [],
      "source": [
        "dict1 = {1:\"test\",\"key\":\"data\"}"
      ]
    },
    {
      "cell_type": "code",
      "execution_count": 77,
      "metadata": {
        "id": "_OXGQpj4rF14",
        "outputId": "2c8ff02d-d2e1-49f3-c7e8-5584f8311fb7",
        "colab": {
          "base_uri": "https://localhost:8080/"
        }
      },
      "outputs": [
        {
          "output_type": "execute_result",
          "data": {
            "text/plain": [
              "dict"
            ]
          },
          "metadata": {},
          "execution_count": 77
        }
      ],
      "source": [
        "type(dict1)"
      ]
    },
    {
      "cell_type": "code",
      "execution_count": 78,
      "metadata": {
        "id": "KqAEfPJ0rF14",
        "outputId": "e84392c2-2c81-4841-abfa-5cef45f88805",
        "colab": {
          "base_uri": "https://localhost:8080/"
        }
      },
      "outputs": [
        {
          "output_type": "execute_result",
          "data": {
            "text/plain": [
              "{1: 'test', 'key': 'data'}"
            ]
          },
          "metadata": {},
          "execution_count": 78
        }
      ],
      "source": [
        "dict1"
      ]
    },
    {
      "cell_type": "code",
      "execution_count": 79,
      "metadata": {
        "id": "qzr15hJwrF14",
        "outputId": "9a42a237-7807-4a93-ee16-0f8cea046840",
        "colab": {
          "base_uri": "https://localhost:8080/",
          "height": 0
        }
      },
      "outputs": [
        {
          "output_type": "execute_result",
          "data": {
            "text/plain": [
              "'test'"
            ],
            "application/vnd.google.colaboratory.intrinsic+json": {
              "type": "string"
            }
          },
          "metadata": {},
          "execution_count": 79
        }
      ],
      "source": [
        "dict1[1]"
      ]
    },
    {
      "cell_type": "code",
      "execution_count": 80,
      "metadata": {
        "id": "TFwlS_hBrF14",
        "outputId": "877a3647-5027-4e06-d3e7-f50c75c7c88a",
        "colab": {
          "base_uri": "https://localhost:8080/",
          "height": 0
        }
      },
      "outputs": [
        {
          "output_type": "execute_result",
          "data": {
            "text/plain": [
              "'data'"
            ],
            "application/vnd.google.colaboratory.intrinsic+json": {
              "type": "string"
            }
          },
          "metadata": {},
          "execution_count": 80
        }
      ],
      "source": [
        "dict1['key']"
      ]
    },
    {
      "cell_type": "code",
      "execution_count": 81,
      "metadata": {
        "id": "hy4F0ROnrF14"
      },
      "outputs": [],
      "source": [
        "#keys are immutable and values are mutable"
      ]
    },
    {
      "cell_type": "code",
      "execution_count": 82,
      "metadata": {
        "id": "a06Gny2lrF14"
      },
      "outputs": [],
      "source": [
        "dict1[1]= \"new value\""
      ]
    },
    {
      "cell_type": "code",
      "execution_count": 83,
      "metadata": {
        "id": "9zkTAycyrF15",
        "outputId": "3e8aebdf-e966-4709-9580-727af6f38cb8",
        "colab": {
          "base_uri": "https://localhost:8080/"
        }
      },
      "outputs": [
        {
          "output_type": "execute_result",
          "data": {
            "text/plain": [
              "{1: 'new value', 'key': 'data'}"
            ]
          },
          "metadata": {},
          "execution_count": 83
        }
      ],
      "source": [
        "dict1"
      ]
    },
    {
      "cell_type": "code",
      "execution_count": 84,
      "metadata": {
        "id": "kDpiHpY9rF15",
        "outputId": "ac7ff6f5-aa9d-4213-8230-4757bb2ba944",
        "colab": {
          "base_uri": "https://localhost:8080/",
          "height": 0
        }
      },
      "outputs": [
        {
          "output_type": "execute_result",
          "data": {
            "text/plain": [
              "'new value'"
            ],
            "application/vnd.google.colaboratory.intrinsic+json": {
              "type": "string"
            }
          },
          "metadata": {},
          "execution_count": 84
        }
      ],
      "source": [
        "dict1.get(1)"
      ]
    },
    {
      "cell_type": "code",
      "execution_count": 85,
      "metadata": {
        "id": "y_0DVK7VrF15",
        "outputId": "b2fbe648-dc3b-4f3a-b47b-81e6d136e04b",
        "colab": {
          "base_uri": "https://localhost:8080/"
        }
      },
      "outputs": [
        {
          "output_type": "execute_result",
          "data": {
            "text/plain": [
              "dict_items([(1, 'new value'), ('key', 'data')])"
            ]
          },
          "metadata": {},
          "execution_count": 85
        }
      ],
      "source": [
        "dict1.items()"
      ]
    },
    {
      "cell_type": "code",
      "execution_count": 86,
      "metadata": {
        "id": "djRnJ4S_rF15",
        "outputId": "0be7d6ef-18cd-417b-8830-adcd0ce4e298",
        "colab": {
          "base_uri": "https://localhost:8080/"
        }
      },
      "outputs": [
        {
          "output_type": "execute_result",
          "data": {
            "text/plain": [
              "dict_values(['new value', 'data'])"
            ]
          },
          "metadata": {},
          "execution_count": 86
        }
      ],
      "source": [
        "dict1.values()"
      ]
    },
    {
      "cell_type": "code",
      "execution_count": 87,
      "metadata": {
        "id": "l-K-Jd8erF15",
        "outputId": "b2b745a3-15ae-4e3a-ad94-7cd6382c3c8f",
        "colab": {
          "base_uri": "https://localhost:8080/"
        }
      },
      "outputs": [
        {
          "output_type": "execute_result",
          "data": {
            "text/plain": [
              "('key', 'data')"
            ]
          },
          "metadata": {},
          "execution_count": 87
        }
      ],
      "source": [
        "dict1.popitem()"
      ]
    },
    {
      "cell_type": "markdown",
      "metadata": {
        "id": "JMWPHHzGrF15"
      },
      "source": [
        "### Set"
      ]
    },
    {
      "cell_type": "code",
      "execution_count": 88,
      "metadata": {
        "id": "WuWGzVmxrF15"
      },
      "outputs": [],
      "source": [
        "# it is unordered collection of unique items"
      ]
    },
    {
      "cell_type": "code",
      "execution_count": 89,
      "metadata": {
        "id": "sCUHP_mgrF16"
      },
      "outputs": [],
      "source": [
        "se = {1,3,5,7,3,1}"
      ]
    },
    {
      "cell_type": "code",
      "execution_count": 90,
      "metadata": {
        "id": "ZrmPLKnsrF16",
        "outputId": "b9c1a50d-f343-4ee8-a6c8-921ead017e9b",
        "colab": {
          "base_uri": "https://localhost:8080/"
        }
      },
      "outputs": [
        {
          "output_type": "execute_result",
          "data": {
            "text/plain": [
              "set"
            ]
          },
          "metadata": {},
          "execution_count": 90
        }
      ],
      "source": [
        "type(se)"
      ]
    },
    {
      "cell_type": "code",
      "execution_count": 91,
      "metadata": {
        "id": "vOZLIOsirF16",
        "outputId": "5aadc19d-e6bd-46cd-8c5b-69eeaa5593ce",
        "colab": {
          "base_uri": "https://localhost:8080/"
        }
      },
      "outputs": [
        {
          "output_type": "execute_result",
          "data": {
            "text/plain": [
              "{1, 3, 5, 7}"
            ]
          },
          "metadata": {},
          "execution_count": 91
        }
      ],
      "source": [
        "se"
      ]
    },
    {
      "cell_type": "code",
      "execution_count": 92,
      "metadata": {
        "id": "hXid1zGZrF16"
      },
      "outputs": [],
      "source": [
        "se.add(9)"
      ]
    },
    {
      "cell_type": "code",
      "execution_count": 93,
      "metadata": {
        "id": "6w4jGoQ7rF16",
        "outputId": "02b1e778-9d52-4d18-daac-190d72cb0c0c",
        "colab": {
          "base_uri": "https://localhost:8080/"
        }
      },
      "outputs": [
        {
          "output_type": "execute_result",
          "data": {
            "text/plain": [
              "{1, 3, 5, 7, 9}"
            ]
          },
          "metadata": {},
          "execution_count": 93
        }
      ],
      "source": [
        "se"
      ]
    },
    {
      "cell_type": "code",
      "execution_count": 94,
      "metadata": {
        "id": "1hkAkCGlrF17"
      },
      "outputs": [],
      "source": [
        "se.add(5)"
      ]
    },
    {
      "cell_type": "code",
      "execution_count": 95,
      "metadata": {
        "id": "6urTLtO3rF17",
        "outputId": "f9077ef5-cda0-4fa0-f68e-fa3867de7bc6",
        "colab": {
          "base_uri": "https://localhost:8080/"
        }
      },
      "outputs": [
        {
          "output_type": "execute_result",
          "data": {
            "text/plain": [
              "{1, 3, 5, 7, 9}"
            ]
          },
          "metadata": {},
          "execution_count": 95
        }
      ],
      "source": [
        "se"
      ]
    },
    {
      "cell_type": "code",
      "execution_count": 96,
      "metadata": {
        "id": "AUpA2bAerF17"
      },
      "outputs": [],
      "source": [
        "se1 = {0,2}"
      ]
    },
    {
      "cell_type": "code",
      "execution_count": 97,
      "metadata": {
        "id": "tWq05xNbrF17"
      },
      "outputs": [],
      "source": [
        "se.update(se1)"
      ]
    },
    {
      "cell_type": "code",
      "execution_count": 98,
      "metadata": {
        "id": "7z8cYLAurF17",
        "outputId": "efdbb237-45f5-43e8-a8c9-91568363e082",
        "colab": {
          "base_uri": "https://localhost:8080/"
        }
      },
      "outputs": [
        {
          "output_type": "stream",
          "name": "stdout",
          "text": [
            "{0, 1, 2, 3, 5, 7, 9}\n"
          ]
        }
      ],
      "source": [
        "print(se)"
      ]
    },
    {
      "cell_type": "code",
      "execution_count": 99,
      "metadata": {
        "id": "G2r1RCZirF17"
      },
      "outputs": [],
      "source": [
        "se2 = {6,8,9}"
      ]
    },
    {
      "cell_type": "code",
      "execution_count": 100,
      "metadata": {
        "id": "DPZHQkBXrF17"
      },
      "outputs": [],
      "source": [
        "se4 = se1.union(se2)"
      ]
    },
    {
      "cell_type": "code",
      "execution_count": 101,
      "metadata": {
        "id": "e38F-WMnrF17",
        "outputId": "1553c772-bf29-472c-f58d-77114ca050a7",
        "colab": {
          "base_uri": "https://localhost:8080/"
        }
      },
      "outputs": [
        {
          "output_type": "execute_result",
          "data": {
            "text/plain": [
              "{0, 2, 6, 8, 9}"
            ]
          },
          "metadata": {},
          "execution_count": 101
        }
      ],
      "source": [
        "se4"
      ]
    },
    {
      "cell_type": "markdown",
      "metadata": {
        "id": "2fU6rPNjrF17"
      },
      "source": [
        "### Conversion between datatypes"
      ]
    },
    {
      "cell_type": "code",
      "execution_count": 102,
      "metadata": {
        "id": "9R2JAVjFrF17"
      },
      "outputs": [],
      "source": [
        "#int(),float(),str()"
      ]
    },
    {
      "cell_type": "code",
      "execution_count": 103,
      "metadata": {
        "id": "pVrxEsu7rF17"
      },
      "outputs": [],
      "source": [
        "a = 10"
      ]
    },
    {
      "cell_type": "code",
      "execution_count": 104,
      "metadata": {
        "id": "PxQfwOy0rF18",
        "outputId": "4eb18467-47bf-4320-e38b-bf79a47b2e77",
        "colab": {
          "base_uri": "https://localhost:8080/"
        }
      },
      "outputs": [
        {
          "output_type": "execute_result",
          "data": {
            "text/plain": [
              "int"
            ]
          },
          "metadata": {},
          "execution_count": 104
        }
      ],
      "source": [
        "type(a)"
      ]
    },
    {
      "cell_type": "code",
      "execution_count": 105,
      "metadata": {
        "id": "iX5zfJyyrF18"
      },
      "outputs": [],
      "source": [
        "b = float(a)"
      ]
    },
    {
      "cell_type": "code",
      "execution_count": 106,
      "metadata": {
        "id": "2E5eL582rF18",
        "outputId": "92eede80-7916-446b-ec19-8a36dba502c2",
        "colab": {
          "base_uri": "https://localhost:8080/"
        }
      },
      "outputs": [
        {
          "output_type": "execute_result",
          "data": {
            "text/plain": [
              "float"
            ]
          },
          "metadata": {},
          "execution_count": 106
        }
      ],
      "source": [
        "type(b)"
      ]
    },
    {
      "cell_type": "code",
      "execution_count": 107,
      "metadata": {
        "id": "72vRbeCArF18",
        "outputId": "5bb61d61-3f4e-47e7-9f0f-943d298d35f8",
        "colab": {
          "base_uri": "https://localhost:8080/"
        }
      },
      "outputs": [
        {
          "output_type": "execute_result",
          "data": {
            "text/plain": [
              "10.0"
            ]
          },
          "metadata": {},
          "execution_count": 107
        }
      ],
      "source": [
        "b"
      ]
    },
    {
      "cell_type": "code",
      "execution_count": 108,
      "metadata": {
        "id": "MT-sF8qurF18"
      },
      "outputs": [],
      "source": [
        "c = int(b)"
      ]
    },
    {
      "cell_type": "code",
      "execution_count": 109,
      "metadata": {
        "id": "f8HNjEksrF18",
        "outputId": "2837dccb-6803-4901-80b5-b08664ffa9b9",
        "colab": {
          "base_uri": "https://localhost:8080/"
        }
      },
      "outputs": [
        {
          "output_type": "execute_result",
          "data": {
            "text/plain": [
              "int"
            ]
          },
          "metadata": {},
          "execution_count": 109
        }
      ],
      "source": [
        "type(c)"
      ]
    },
    {
      "cell_type": "code",
      "execution_count": 110,
      "metadata": {
        "id": "kMw8DWohrF18"
      },
      "outputs": [],
      "source": [
        "st = \"4567\""
      ]
    },
    {
      "cell_type": "code",
      "execution_count": 111,
      "metadata": {
        "id": "nbEN2u-QrF18",
        "outputId": "d12633b0-c0a3-40fe-f0d2-7d1e12a01655",
        "colab": {
          "base_uri": "https://localhost:8080/"
        }
      },
      "outputs": [
        {
          "output_type": "execute_result",
          "data": {
            "text/plain": [
              "str"
            ]
          },
          "metadata": {},
          "execution_count": 111
        }
      ],
      "source": [
        "type(st)"
      ]
    },
    {
      "cell_type": "code",
      "execution_count": 112,
      "metadata": {
        "id": "N_9fxOWcrF18"
      },
      "outputs": [],
      "source": [
        "f = int(st)\n",
        "g = float(st)"
      ]
    },
    {
      "cell_type": "code",
      "execution_count": 113,
      "metadata": {
        "id": "ddsptO1rrF19",
        "outputId": "7feae946-0cc1-4c30-be2f-2b5de39e8b74",
        "colab": {
          "base_uri": "https://localhost:8080/"
        }
      },
      "outputs": [
        {
          "output_type": "execute_result",
          "data": {
            "text/plain": [
              "4567"
            ]
          },
          "metadata": {},
          "execution_count": 113
        }
      ],
      "source": [
        "f"
      ]
    },
    {
      "cell_type": "code",
      "execution_count": 114,
      "metadata": {
        "id": "Dr2cembSrF19",
        "outputId": "8e1c563a-170e-4412-b29f-7ac9bd7c5e9d",
        "colab": {
          "base_uri": "https://localhost:8080/"
        }
      },
      "outputs": [
        {
          "output_type": "execute_result",
          "data": {
            "text/plain": [
              "4567.0"
            ]
          },
          "metadata": {},
          "execution_count": 114
        }
      ],
      "source": [
        "g"
      ]
    },
    {
      "cell_type": "code",
      "execution_count": 115,
      "metadata": {
        "id": "8UAJoTzUrF19",
        "outputId": "29db1079-cc21-48e6-e1ab-33c2b52d4fec",
        "colab": {
          "base_uri": "https://localhost:8080/"
        }
      },
      "outputs": [
        {
          "output_type": "execute_result",
          "data": {
            "text/plain": [
              "int"
            ]
          },
          "metadata": {},
          "execution_count": 115
        }
      ],
      "source": [
        "type(f)"
      ]
    },
    {
      "cell_type": "code",
      "execution_count": 116,
      "metadata": {
        "id": "iC4JXUoGrF19",
        "outputId": "f243ff78-33be-49ea-8a37-70d7cf69ea8a",
        "colab": {
          "base_uri": "https://localhost:8080/"
        }
      },
      "outputs": [
        {
          "output_type": "execute_result",
          "data": {
            "text/plain": [
              "float"
            ]
          },
          "metadata": {},
          "execution_count": 116
        }
      ],
      "source": [
        "type(g)"
      ]
    },
    {
      "cell_type": "code",
      "execution_count": 119,
      "metadata": {
        "id": "hYVmLH9JrF19"
      },
      "outputs": [],
      "source": [
        "st = \"i\""
      ]
    },
    {
      "cell_type": "code",
      "execution_count": 125,
      "metadata": {
        "id": "2_5hB7Y-rF19",
        "outputId": "81b4ed07-82cc-4054-a88c-67164091c1a8",
        "colab": {
          "base_uri": "https://localhost:8080/"
        }
      },
      "outputs": [
        {
          "name": "stdout",
          "output_type": "stream",
          "text": [
            "enter a value24\n"
          ]
        }
      ],
      "source": [
        "a = input(\"enter a value\")"
      ]
    },
    {
      "cell_type": "code",
      "execution_count": 126,
      "metadata": {
        "id": "CvCqxfRjrF19",
        "outputId": "6bef3af7-c88c-476b-8b65-22e254ee83fb",
        "colab": {
          "base_uri": "https://localhost:8080/"
        }
      },
      "outputs": [
        {
          "output_type": "stream",
          "name": "stdout",
          "text": [
            "enter a value24\n",
            "enter b value10\n",
            "34\n"
          ]
        }
      ],
      "source": [
        "a = int(input(\"enter a value\"))\n",
        "b = int(input(\"enter b value\"))\n",
        "c = a+b\n",
        "print(c)"
      ]
    },
    {
      "cell_type": "code",
      "execution_count": 127,
      "metadata": {
        "id": "EB2JqynmrF1-",
        "outputId": "3dc40cc6-47ea-44b1-87d5-92747f154244",
        "colab": {
          "base_uri": "https://localhost:8080/"
        }
      },
      "outputs": [
        {
          "output_type": "execute_result",
          "data": {
            "text/plain": [
              "int"
            ]
          },
          "metadata": {},
          "execution_count": 127
        }
      ],
      "source": [
        "type(a)"
      ]
    },
    {
      "cell_type": "markdown",
      "metadata": {
        "id": "ZC034moVrF1-"
      },
      "source": [
        "### Conditional statements"
      ]
    },
    {
      "cell_type": "code",
      "execution_count": 128,
      "metadata": {
        "id": "ZB2gbmrzrF1-"
      },
      "outputs": [],
      "source": [
        "#if and else"
      ]
    },
    {
      "cell_type": "markdown",
      "metadata": {
        "id": "FoiCmKSrrF1-"
      },
      "source": [
        "if expression :\n",
        "    body"
      ]
    },
    {
      "cell_type": "code",
      "execution_count": 129,
      "metadata": {
        "id": "J-koLin8rF1-"
      },
      "outputs": [],
      "source": [
        "num = 2\n",
        "if(num>3):\n",
        "    print(num)"
      ]
    },
    {
      "cell_type": "code",
      "execution_count": 130,
      "metadata": {
        "id": "Ps6J0k7-rF1-",
        "outputId": "a8822f11-1741-44dc-8d04-b742e23875ca",
        "colab": {
          "base_uri": "https://localhost:8080/"
        }
      },
      "outputs": [
        {
          "output_type": "stream",
          "name": "stdout",
          "text": [
            "number is lessar than 3  2\n"
          ]
        }
      ],
      "source": [
        "num = 2\n",
        "if(num>3):\n",
        "    print(\"number is greater than 3 \",num)\n",
        "else:\n",
        "    print(\"number is lessar than 3 \",num)"
      ]
    },
    {
      "cell_type": "code",
      "execution_count": 131,
      "metadata": {
        "id": "6xlodQHqrF1-",
        "outputId": "2e4dd406-0c18-4495-e5a6-7840088ac320",
        "colab": {
          "base_uri": "https://localhost:8080/"
        }
      },
      "outputs": [
        {
          "output_type": "stream",
          "name": "stdout",
          "text": [
            "enter a value46\n",
            "it is even number\n"
          ]
        }
      ],
      "source": [
        "a = int(input(\"enter a value\"))\n",
        "if(a%2==0):\n",
        "    print(\"it is even number\")\n",
        "else:\n",
        "    print(\"it is odd number\")\n"
      ]
    },
    {
      "cell_type": "code",
      "execution_count": 132,
      "metadata": {
        "id": "iSXtbMQwrF1-",
        "outputId": "68d18bd0-7260-42f8-c906-a2f549876af8",
        "colab": {
          "base_uri": "https://localhost:8080/"
        }
      },
      "outputs": [
        {
          "output_type": "stream",
          "name": "stdout",
          "text": [
            "it is 0\n"
          ]
        }
      ],
      "source": [
        "a = 0\n",
        "\n",
        "if(a == 0):\n",
        "    print(\"it is 0\")\n",
        "elif(a>5):\n",
        "    print(\"greater than 5\")\n",
        "else:\n",
        "    print(\"else stament\")"
      ]
    },
    {
      "cell_type": "code",
      "execution_count": 133,
      "metadata": {
        "id": "LUWGrmqrrF1-"
      },
      "outputs": [],
      "source": [
        "a,b,c=10,34,56"
      ]
    },
    {
      "cell_type": "code",
      "execution_count": 134,
      "metadata": {
        "id": "Agf92sSsrF1-",
        "outputId": "e3878daa-a068-4b5c-9602-5bd4f1a94bae",
        "colab": {
          "base_uri": "https://localhost:8080/"
        }
      },
      "outputs": [
        {
          "output_type": "execute_result",
          "data": {
            "text/plain": [
              "10"
            ]
          },
          "metadata": {},
          "execution_count": 134
        }
      ],
      "source": [
        "a"
      ]
    },
    {
      "cell_type": "code",
      "execution_count": 135,
      "metadata": {
        "id": "16Km-oKjrF1_",
        "outputId": "bb6336c4-482b-46da-d5db-0dcffb39f6d5",
        "colab": {
          "base_uri": "https://localhost:8080/"
        }
      },
      "outputs": [
        {
          "output_type": "execute_result",
          "data": {
            "text/plain": [
              "34"
            ]
          },
          "metadata": {},
          "execution_count": 135
        }
      ],
      "source": [
        "b"
      ]
    },
    {
      "cell_type": "code",
      "execution_count": 136,
      "metadata": {
        "id": "cBd-6ZWSrF1_"
      },
      "outputs": [],
      "source": [
        "#a,b,c=10,34,56\n",
        "# program it has to find the biggest number\n"
      ]
    },
    {
      "cell_type": "code",
      "execution_count": 137,
      "metadata": {
        "id": "fltpqkiRrF1_"
      },
      "outputs": [],
      "source": [
        "#nested if => if inside of if statement"
      ]
    },
    {
      "cell_type": "code",
      "execution_count": 138,
      "metadata": {
        "id": "k0M-uM2trF1_",
        "outputId": "3c8dfb61-9bd1-49f4-812e-cd93c2c7d2ed",
        "colab": {
          "base_uri": "https://localhost:8080/"
        }
      },
      "outputs": [
        {
          "output_type": "stream",
          "name": "stdout",
          "text": [
            "8\n"
          ]
        }
      ],
      "source": [
        "a = 8\n",
        "if(a>5):\n",
        "    if(a>=8):\n",
        "        print(a)"
      ]
    },
    {
      "cell_type": "markdown",
      "metadata": {
        "id": "FtXk-g0OrF1_"
      },
      "source": [
        "### Loops"
      ]
    },
    {
      "cell_type": "code",
      "execution_count": 183,
      "metadata": {
        "id": "tVcvzLuRrF1_",
        "outputId": "0552fdc6-c6cb-4743-e590-b5b9ef80ffde",
        "colab": {
          "base_uri": "https://localhost:8080/"
        }
      },
      "outputs": [
        {
          "output_type": "stream",
          "name": "stdout",
          "text": [
            "Anees\n"
          ]
        }
      ],
      "source": [
        "print(\"Anees\")"
      ]
    },
    {
      "cell_type": "code",
      "execution_count": 170,
      "metadata": {
        "id": "x1w5Yk1ErF1_"
      },
      "outputs": [],
      "source": [
        "#while"
      ]
    },
    {
      "cell_type": "code",
      "execution_count": 184,
      "metadata": {
        "id": "WowfXpGXrF1_",
        "outputId": "586318f5-60bc-43be-a1b2-437b43ac4ae7",
        "colab": {
          "base_uri": "https://localhost:8080/"
        }
      },
      "outputs": [
        {
          "output_type": "stream",
          "name": "stdout",
          "text": [
            "0\n",
            "1\n",
            "2\n",
            "3\n",
            "4\n",
            "5\n",
            "6\n",
            "7\n"
          ]
        }
      ],
      "source": [
        "a = 0\n",
        "while a<8 :\n",
        "    print(a)\n",
        "    a = a+1\n",
        "    "
      ]
    },
    {
      "cell_type": "code",
      "execution_count": 185,
      "metadata": {
        "id": "27tOYBl9rF1_",
        "outputId": "49708265-9b5d-433a-a216-abc37e9f9047",
        "colab": {
          "base_uri": "https://localhost:8080/"
        }
      },
      "outputs": [
        {
          "output_type": "stream",
          "name": "stdout",
          "text": [
            "A\n",
            "N\n",
            "E\n",
            "E\n",
            "S\n"
          ]
        }
      ],
      "source": [
        "#for loop \n",
        "a = \"ANEES\"\n",
        "for i in a:\n",
        "    print(i)"
      ]
    },
    {
      "cell_type": "code",
      "execution_count": 186,
      "metadata": {
        "id": "-i0NlogyrF2A"
      },
      "outputs": [],
      "source": [
        "l = [1,56,7.8,90]"
      ]
    },
    {
      "cell_type": "code",
      "execution_count": 187,
      "metadata": {
        "id": "v5eKNfyPrF2A",
        "outputId": "1139c665-6101-4f9a-ff21-95032c2c4a75",
        "colab": {
          "base_uri": "https://localhost:8080/"
        }
      },
      "outputs": [
        {
          "output_type": "stream",
          "name": "stdout",
          "text": [
            "1\n",
            "56\n",
            "7.8\n",
            "90\n"
          ]
        }
      ],
      "source": [
        "for i in l:\n",
        "    print(i)"
      ]
    },
    {
      "cell_type": "code",
      "execution_count": 188,
      "metadata": {
        "id": "Vpxj_AjHrF2A",
        "outputId": "3dc90884-ec5f-435b-a704-11953fcfecd7",
        "colab": {
          "base_uri": "https://localhost:8080/"
        }
      },
      "outputs": [
        {
          "output_type": "stream",
          "name": "stdout",
          "text": [
            "0\n",
            "1\n",
            "2\n",
            "3\n",
            "4\n",
            "5\n",
            "6\n",
            "7\n",
            "8\n",
            "9\n"
          ]
        }
      ],
      "source": [
        "for i in range(10):\n",
        "    print(i)"
      ]
    },
    {
      "cell_type": "code",
      "execution_count": 189,
      "metadata": {
        "id": "NiFeOd3nrF2A",
        "outputId": "b5427533-9b29-42a0-90ec-6263434ec18c",
        "colab": {
          "base_uri": "https://localhost:8080/"
        }
      },
      "outputs": [
        {
          "output_type": "stream",
          "name": "stdout",
          "text": [
            "1\n",
            "2\n",
            "3\n",
            "4\n",
            "5\n",
            "6\n",
            "7\n",
            "8\n",
            "9\n",
            "10\n"
          ]
        }
      ],
      "source": [
        "for i in range(1,11):\n",
        "    print(i)"
      ]
    },
    {
      "cell_type": "code",
      "execution_count": 190,
      "metadata": {
        "id": "fNTl2BParF2A"
      },
      "outputs": [],
      "source": [
        "#l = [23,46,78,45,90]"
      ]
    },
    {
      "cell_type": "code",
      "execution_count": 191,
      "metadata": {
        "id": "RBjqrYB-rF2A"
      },
      "outputs": [],
      "source": [
        "#break"
      ]
    },
    {
      "cell_type": "code",
      "execution_count": 192,
      "metadata": {
        "id": "Kt_42ZjurF2B",
        "outputId": "7ecd7639-2ef5-4426-a831-bb084992f29e",
        "colab": {
          "base_uri": "https://localhost:8080/"
        }
      },
      "outputs": [
        {
          "output_type": "stream",
          "name": "stdout",
          "text": [
            "1\n",
            "2\n",
            "3\n",
            "4\n",
            "5\n"
          ]
        }
      ],
      "source": [
        "for i in range(1,11):\n",
        "    if(i>5):\n",
        "        break\n",
        "    print(i)"
      ]
    },
    {
      "cell_type": "code",
      "execution_count": 193,
      "metadata": {
        "id": "lMk9xZ0ErF2B",
        "outputId": "560d3a29-036c-47b6-cb33-30060d6937d4",
        "colab": {
          "base_uri": "https://localhost:8080/"
        }
      },
      "outputs": [
        {
          "output_type": "stream",
          "name": "stdout",
          "text": [
            "1\n",
            "3\n",
            "5\n",
            "7\n",
            "9\n"
          ]
        }
      ],
      "source": [
        "for i in range(1,11):\n",
        "    if(i%2 == 0):\n",
        "        continue\n",
        "    print(i)"
      ]
    },
    {
      "cell_type": "code",
      "execution_count": 194,
      "metadata": {
        "id": "nwDACBbRrF2B",
        "outputId": "7e98b88c-ca28-46e2-d51d-7a7735ff7597",
        "colab": {
          "base_uri": "https://localhost:8080/"
        }
      },
      "outputs": [
        {
          "output_type": "stream",
          "name": "stdout",
          "text": [
            "2\n",
            "4\n",
            "6\n",
            "8\n",
            "10\n"
          ]
        }
      ],
      "source": [
        "for i in range(1,11):\n",
        "    if(i%2 != 0):\n",
        "        continue\n",
        "    print(i)"
      ]
    },
    {
      "cell_type": "code",
      "execution_count": 195,
      "metadata": {
        "id": "pTGdsiv9rF2B"
      },
      "outputs": [],
      "source": [
        "a = 11\n",
        "if(a>10):\n",
        "    pass"
      ]
    },
    {
      "cell_type": "markdown",
      "metadata": {
        "id": "XuTzKh1MrF2B"
      },
      "source": [
        "### Functions"
      ]
    },
    {
      "cell_type": "markdown",
      "metadata": {
        "id": "URbombQIrF2C"
      },
      "source": [
        "def functionname():\n",
        "    body"
      ]
    },
    {
      "cell_type": "code",
      "execution_count": 153,
      "metadata": {
        "id": "tJYe2wjurF2C"
      },
      "outputs": [],
      "source": [
        "def test():\n",
        "    print(\"hello\")\n",
        "    "
      ]
    },
    {
      "cell_type": "code",
      "execution_count": 154,
      "metadata": {
        "id": "lw9P2oITrF2C",
        "outputId": "1eb9e2d3-6f7c-42b6-bc81-46041bcfe5d2",
        "colab": {
          "base_uri": "https://localhost:8080/"
        }
      },
      "outputs": [
        {
          "output_type": "stream",
          "name": "stdout",
          "text": [
            "hello\n"
          ]
        }
      ],
      "source": [
        "test()"
      ]
    },
    {
      "cell_type": "code",
      "execution_count": 155,
      "metadata": {
        "id": "OaZ5QDbCrF2C"
      },
      "outputs": [],
      "source": [
        "def add(a,b):\n",
        "    c = a+b\n",
        "    return c"
      ]
    },
    {
      "cell_type": "code",
      "execution_count": 156,
      "metadata": {
        "id": "ChznTEG8rF2C"
      },
      "outputs": [],
      "source": [
        "h = add(3,9)"
      ]
    },
    {
      "cell_type": "code",
      "execution_count": 157,
      "metadata": {
        "id": "JFc86t8arF2C",
        "outputId": "1a245f59-ca64-493a-e8d9-bcbb43646d2d",
        "colab": {
          "base_uri": "https://localhost:8080/"
        }
      },
      "outputs": [
        {
          "output_type": "execute_result",
          "data": {
            "text/plain": [
              "12"
            ]
          },
          "metadata": {},
          "execution_count": 157
        }
      ],
      "source": [
        "h"
      ]
    },
    {
      "cell_type": "code",
      "execution_count": 158,
      "metadata": {
        "id": "w5VOfCUmrF2C"
      },
      "outputs": [],
      "source": [
        "def calc(a,b):\n",
        "    return a+b,a-b"
      ]
    },
    {
      "cell_type": "code",
      "execution_count": 159,
      "metadata": {
        "id": "6PGsQlAprF2D"
      },
      "outputs": [],
      "source": [
        "t = calc(3,7)"
      ]
    },
    {
      "cell_type": "code",
      "execution_count": 160,
      "metadata": {
        "id": "v_9Um-VgrF2D",
        "outputId": "bc496731-5004-4e90-8191-d0cde775ec15",
        "colab": {
          "base_uri": "https://localhost:8080/"
        }
      },
      "outputs": [
        {
          "output_type": "execute_result",
          "data": {
            "text/plain": [
              "(10, -4)"
            ]
          },
          "metadata": {},
          "execution_count": 160
        }
      ],
      "source": [
        "t"
      ]
    },
    {
      "cell_type": "code",
      "execution_count": 161,
      "metadata": {
        "id": "4yEN3sdnrF2D"
      },
      "outputs": [],
      "source": [
        "t,j = calc(3,7)"
      ]
    },
    {
      "cell_type": "code",
      "execution_count": 162,
      "metadata": {
        "id": "zBtwZ0EHrF2D",
        "outputId": "89714bd3-ebd7-4105-9853-7634cf10f77d",
        "colab": {
          "base_uri": "https://localhost:8080/"
        }
      },
      "outputs": [
        {
          "output_type": "execute_result",
          "data": {
            "text/plain": [
              "10"
            ]
          },
          "metadata": {},
          "execution_count": 162
        }
      ],
      "source": [
        "t"
      ]
    },
    {
      "cell_type": "code",
      "execution_count": 163,
      "metadata": {
        "id": "Smi7ItLhrF2D",
        "outputId": "a656847a-0835-4673-edda-909e7216bb25",
        "colab": {
          "base_uri": "https://localhost:8080/"
        }
      },
      "outputs": [
        {
          "output_type": "execute_result",
          "data": {
            "text/plain": [
              "-4"
            ]
          },
          "metadata": {},
          "execution_count": 163
        }
      ],
      "source": [
        "j"
      ]
    },
    {
      "cell_type": "markdown",
      "metadata": {
        "id": "kK7cz3NRrF2D"
      },
      "source": [
        "####  *args and **kwargs"
      ]
    },
    {
      "cell_type": "code",
      "execution_count": 164,
      "metadata": {
        "id": "7zSB8YK2rF2E"
      },
      "outputs": [],
      "source": [
        "def add(*num):\n",
        "    c = 0\n",
        "    for i in num:\n",
        "        c = c+i\n",
        "    return c"
      ]
    },
    {
      "cell_type": "code",
      "execution_count": 165,
      "metadata": {
        "id": "6ej5T78VrF2E",
        "outputId": "29c2689c-5b99-44c4-fa3f-fc2d350995dd",
        "colab": {
          "base_uri": "https://localhost:8080/"
        }
      },
      "outputs": [
        {
          "output_type": "execute_result",
          "data": {
            "text/plain": [
              "174"
            ]
          },
          "metadata": {},
          "execution_count": 165
        }
      ],
      "source": [
        "add(2,7,8,90,67)"
      ]
    },
    {
      "cell_type": "code",
      "execution_count": 196,
      "metadata": {
        "id": "Ot-WJft2rF2E"
      },
      "outputs": [],
      "source": [
        "def info(**data):\n",
        "    for key,value in data.items():\n",
        "        print(\"the key is \",key,\" value is \",value)"
      ]
    },
    {
      "cell_type": "code",
      "execution_count": 197,
      "metadata": {
        "id": "_81rjcY-rF2E",
        "outputId": "4f5355e5-ced3-43c0-b2c4-5dcaaf6fa33e",
        "colab": {
          "base_uri": "https://localhost:8080/"
        }
      },
      "outputs": [
        {
          "output_type": "stream",
          "name": "stdout",
          "text": [
            "the key is  name  value is  ANEES \n",
            "the key is  qualification  value is  B E \n"
          ]
        }
      ],
      "source": [
        "info(name=\"ANEES \",qualification=\"B E \")"
      ]
    }
  ],
  "metadata": {
    "kernelspec": {
      "display_name": "Python 3",
      "language": "python",
      "name": "python3"
    },
    "language_info": {
      "codemirror_mode": {
        "name": "ipython",
        "version": 3
      },
      "file_extension": ".py",
      "mimetype": "text/x-python",
      "name": "python",
      "nbconvert_exporter": "python",
      "pygments_lexer": "ipython3",
      "version": "3.7.0"
    },
    "colab": {
      "provenance": []
    }
  },
  "nbformat": 4,
  "nbformat_minor": 0
}