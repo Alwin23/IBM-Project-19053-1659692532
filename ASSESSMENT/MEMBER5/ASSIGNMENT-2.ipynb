{
  "cells": [
    {
      "cell_type": "markdown",
      "metadata": {
        "id": "ckd9QQjUrT6B"
      },
      "source": [
        "ASSIGNMENT 2 \n",
        "\n",
        "IBM\n",
        "### We learnt to play with DATA"
      ]
    },
    {
      "cell_type": "code",
      "execution_count": 1,
      "metadata": {
        "id": "Or_gSGBDrT6E"
      },
      "outputs": [],
      "source": [
        "import pandas as pd\n",
        "import numpy as np"
      ]
    },
    {
      "cell_type": "code",
      "execution_count": 2,
      "metadata": {
        "id": "R8zcagklrT6E"
      },
      "outputs": [],
      "source": [
        "df = pd.read_csv(r\"/content/DATASET/Social_Network_Ads_1.csv\")"
      ]
    },
    {
      "cell_type": "code",
      "execution_count": 6,
      "metadata": {
        "colab": {
          "base_uri": "https://localhost:8080/",
          "height": 363
        },
        "id": "sPQoYeWZrT6E",
        "outputId": "1c011f4a-23e9-42a8-cbbd-90107dca6b90"
      },
      "outputs": [
        {
          "output_type": "execute_result",
          "data": {
            "text/plain": [
              "    User ID        Date  Country  Gender  Age  EstimatedSalary  Purchased\n",
              "0  15624510  01-03-2012   France    Male   19          19000.0          0\n",
              "1  15810944  01-04-2012    Italy    Male   35          20000.0          0\n",
              "2  15668575  01-05-2012   France  Female   26          43000.0          0\n",
              "3  15603246  01-06-2012  Germany  Female   27          57000.0          0\n",
              "4  15804002  01-09-2012   France    Male   19          76000.0          0\n",
              "5  15728773  01-10-2012    Italy    Male   27          58000.0          0\n",
              "6  15598044  01-11-2012   France  Female   27          84000.0          0\n",
              "7  15694829  01-12-2012    Italy  Female   32         150000.0          1\n",
              "8  15600575   1/13/2012    Italy    Male   25          33000.0          0\n",
              "9  15727311   1/17/2012  Germany  Female   35          65000.0          0"
            ],
            "text/html": [
              "\n",
              "  <div id=\"df-3cb23c7f-911d-452e-9b61-79938ac8a053\">\n",
              "    <div class=\"colab-df-container\">\n",
              "      <div>\n",
              "<style scoped>\n",
              "    .dataframe tbody tr th:only-of-type {\n",
              "        vertical-align: middle;\n",
              "    }\n",
              "\n",
              "    .dataframe tbody tr th {\n",
              "        vertical-align: top;\n",
              "    }\n",
              "\n",
              "    .dataframe thead th {\n",
              "        text-align: right;\n",
              "    }\n",
              "</style>\n",
              "<table border=\"1\" class=\"dataframe\">\n",
              "  <thead>\n",
              "    <tr style=\"text-align: right;\">\n",
              "      <th></th>\n",
              "      <th>User ID</th>\n",
              "      <th>Date</th>\n",
              "      <th>Country</th>\n",
              "      <th>Gender</th>\n",
              "      <th>Age</th>\n",
              "      <th>EstimatedSalary</th>\n",
              "      <th>Purchased</th>\n",
              "    </tr>\n",
              "  </thead>\n",
              "  <tbody>\n",
              "    <tr>\n",
              "      <th>0</th>\n",
              "      <td>15624510</td>\n",
              "      <td>01-03-2012</td>\n",
              "      <td>France</td>\n",
              "      <td>Male</td>\n",
              "      <td>19</td>\n",
              "      <td>19000.0</td>\n",
              "      <td>0</td>\n",
              "    </tr>\n",
              "    <tr>\n",
              "      <th>1</th>\n",
              "      <td>15810944</td>\n",
              "      <td>01-04-2012</td>\n",
              "      <td>Italy</td>\n",
              "      <td>Male</td>\n",
              "      <td>35</td>\n",
              "      <td>20000.0</td>\n",
              "      <td>0</td>\n",
              "    </tr>\n",
              "    <tr>\n",
              "      <th>2</th>\n",
              "      <td>15668575</td>\n",
              "      <td>01-05-2012</td>\n",
              "      <td>France</td>\n",
              "      <td>Female</td>\n",
              "      <td>26</td>\n",
              "      <td>43000.0</td>\n",
              "      <td>0</td>\n",
              "    </tr>\n",
              "    <tr>\n",
              "      <th>3</th>\n",
              "      <td>15603246</td>\n",
              "      <td>01-06-2012</td>\n",
              "      <td>Germany</td>\n",
              "      <td>Female</td>\n",
              "      <td>27</td>\n",
              "      <td>57000.0</td>\n",
              "      <td>0</td>\n",
              "    </tr>\n",
              "    <tr>\n",
              "      <th>4</th>\n",
              "      <td>15804002</td>\n",
              "      <td>01-09-2012</td>\n",
              "      <td>France</td>\n",
              "      <td>Male</td>\n",
              "      <td>19</td>\n",
              "      <td>76000.0</td>\n",
              "      <td>0</td>\n",
              "    </tr>\n",
              "    <tr>\n",
              "      <th>5</th>\n",
              "      <td>15728773</td>\n",
              "      <td>01-10-2012</td>\n",
              "      <td>Italy</td>\n",
              "      <td>Male</td>\n",
              "      <td>27</td>\n",
              "      <td>58000.0</td>\n",
              "      <td>0</td>\n",
              "    </tr>\n",
              "    <tr>\n",
              "      <th>6</th>\n",
              "      <td>15598044</td>\n",
              "      <td>01-11-2012</td>\n",
              "      <td>France</td>\n",
              "      <td>Female</td>\n",
              "      <td>27</td>\n",
              "      <td>84000.0</td>\n",
              "      <td>0</td>\n",
              "    </tr>\n",
              "    <tr>\n",
              "      <th>7</th>\n",
              "      <td>15694829</td>\n",
              "      <td>01-12-2012</td>\n",
              "      <td>Italy</td>\n",
              "      <td>Female</td>\n",
              "      <td>32</td>\n",
              "      <td>150000.0</td>\n",
              "      <td>1</td>\n",
              "    </tr>\n",
              "    <tr>\n",
              "      <th>8</th>\n",
              "      <td>15600575</td>\n",
              "      <td>1/13/2012</td>\n",
              "      <td>Italy</td>\n",
              "      <td>Male</td>\n",
              "      <td>25</td>\n",
              "      <td>33000.0</td>\n",
              "      <td>0</td>\n",
              "    </tr>\n",
              "    <tr>\n",
              "      <th>9</th>\n",
              "      <td>15727311</td>\n",
              "      <td>1/17/2012</td>\n",
              "      <td>Germany</td>\n",
              "      <td>Female</td>\n",
              "      <td>35</td>\n",
              "      <td>65000.0</td>\n",
              "      <td>0</td>\n",
              "    </tr>\n",
              "  </tbody>\n",
              "</table>\n",
              "</div>\n",
              "      <button class=\"colab-df-convert\" onclick=\"convertToInteractive('df-3cb23c7f-911d-452e-9b61-79938ac8a053')\"\n",
              "              title=\"Convert this dataframe to an interactive table.\"\n",
              "              style=\"display:none;\">\n",
              "        \n",
              "  <svg xmlns=\"http://www.w3.org/2000/svg\" height=\"24px\"viewBox=\"0 0 24 24\"\n",
              "       width=\"24px\">\n",
              "    <path d=\"M0 0h24v24H0V0z\" fill=\"none\"/>\n",
              "    <path d=\"M18.56 5.44l.94 2.06.94-2.06 2.06-.94-2.06-.94-.94-2.06-.94 2.06-2.06.94zm-11 1L8.5 8.5l.94-2.06 2.06-.94-2.06-.94L8.5 2.5l-.94 2.06-2.06.94zm10 10l.94 2.06.94-2.06 2.06-.94-2.06-.94-.94-2.06-.94 2.06-2.06.94z\"/><path d=\"M17.41 7.96l-1.37-1.37c-.4-.4-.92-.59-1.43-.59-.52 0-1.04.2-1.43.59L10.3 9.45l-7.72 7.72c-.78.78-.78 2.05 0 2.83L4 21.41c.39.39.9.59 1.41.59.51 0 1.02-.2 1.41-.59l7.78-7.78 2.81-2.81c.8-.78.8-2.07 0-2.86zM5.41 20L4 18.59l7.72-7.72 1.47 1.35L5.41 20z\"/>\n",
              "  </svg>\n",
              "      </button>\n",
              "      \n",
              "  <style>\n",
              "    .colab-df-container {\n",
              "      display:flex;\n",
              "      flex-wrap:wrap;\n",
              "      gap: 12px;\n",
              "    }\n",
              "\n",
              "    .colab-df-convert {\n",
              "      background-color: #E8F0FE;\n",
              "      border: none;\n",
              "      border-radius: 50%;\n",
              "      cursor: pointer;\n",
              "      display: none;\n",
              "      fill: #1967D2;\n",
              "      height: 32px;\n",
              "      padding: 0 0 0 0;\n",
              "      width: 32px;\n",
              "    }\n",
              "\n",
              "    .colab-df-convert:hover {\n",
              "      background-color: #E2EBFA;\n",
              "      box-shadow: 0px 1px 2px rgba(60, 64, 67, 0.3), 0px 1px 3px 1px rgba(60, 64, 67, 0.15);\n",
              "      fill: #174EA6;\n",
              "    }\n",
              "\n",
              "    [theme=dark] .colab-df-convert {\n",
              "      background-color: #3B4455;\n",
              "      fill: #D2E3FC;\n",
              "    }\n",
              "\n",
              "    [theme=dark] .colab-df-convert:hover {\n",
              "      background-color: #434B5C;\n",
              "      box-shadow: 0px 1px 3px 1px rgba(0, 0, 0, 0.15);\n",
              "      filter: drop-shadow(0px 1px 2px rgba(0, 0, 0, 0.3));\n",
              "      fill: #FFFFFF;\n",
              "    }\n",
              "  </style>\n",
              "\n",
              "      <script>\n",
              "        const buttonEl =\n",
              "          document.querySelector('#df-3cb23c7f-911d-452e-9b61-79938ac8a053 button.colab-df-convert');\n",
              "        buttonEl.style.display =\n",
              "          google.colab.kernel.accessAllowed ? 'block' : 'none';\n",
              "\n",
              "        async function convertToInteractive(key) {\n",
              "          const element = document.querySelector('#df-3cb23c7f-911d-452e-9b61-79938ac8a053');\n",
              "          const dataTable =\n",
              "            await google.colab.kernel.invokeFunction('convertToInteractive',\n",
              "                                                     [key], {});\n",
              "          if (!dataTable) return;\n",
              "\n",
              "          const docLinkHtml = 'Like what you see? Visit the ' +\n",
              "            '<a target=\"_blank\" href=https://colab.research.google.com/notebooks/data_table.ipynb>data table notebook</a>'\n",
              "            + ' to learn more about interactive tables.';\n",
              "          element.innerHTML = '';\n",
              "          dataTable['output_type'] = 'display_data';\n",
              "          await google.colab.output.renderOutput(dataTable, element);\n",
              "          const docLink = document.createElement('div');\n",
              "          docLink.innerHTML = docLinkHtml;\n",
              "          element.appendChild(docLink);\n",
              "        }\n",
              "      </script>\n",
              "    </div>\n",
              "  </div>\n",
              "  "
            ]
          },
          "metadata": {},
          "execution_count": 6
        }
      ],
      "source": [
        "df.head(10)"
      ]
    },
    {
      "cell_type": "code",
      "execution_count": 11,
      "metadata": {
        "colab": {
          "base_uri": "https://localhost:8080/"
        },
        "id": "hjB1M7f6rT6G",
        "outputId": "3e20072a-4dae-4361-fa22-84de07645627"
      },
      "outputs": [
        {
          "output_type": "execute_result",
          "data": {
            "text/plain": [
              "User ID            False\n",
              "Date               False\n",
              "Country            False\n",
              "Gender             False\n",
              "Age                False\n",
              "EstimatedSalary     True\n",
              "Purchased          False\n",
              "dtype: bool"
            ]
          },
          "metadata": {},
          "execution_count": 11
        }
      ],
      "source": [
        "df.isnull().any()"
      ]
    },
    {
      "cell_type": "code",
      "execution_count": 12,
      "metadata": {
        "colab": {
          "base_uri": "https://localhost:8080/"
        },
        "id": "q7B8yAFCrT6G",
        "outputId": "3c93bfad-5b05-4853-94fa-481db285bc7d"
      },
      "outputs": [
        {
          "output_type": "execute_result",
          "data": {
            "text/plain": [
              "User ID            0\n",
              "Date               0\n",
              "Country            0\n",
              "Gender             0\n",
              "Age                0\n",
              "EstimatedSalary    2\n",
              "Purchased          0\n",
              "dtype: int64"
            ]
          },
          "metadata": {},
          "execution_count": 12
        }
      ],
      "source": [
        "df.isnull().sum()"
      ]
    },
    {
      "cell_type": "markdown",
      "metadata": {
        "id": "xfyp1GLCrT6G"
      },
      "source": [
        "#### handle the missing values"
      ]
    },
    {
      "cell_type": "code",
      "execution_count": 19,
      "metadata": {
        "colab": {
          "base_uri": "https://localhost:8080/"
        },
        "id": "tKrgZgiurT6G",
        "outputId": "a12e0f30-42ce-4e3b-801b-9f348b669e1b"
      },
      "outputs": [
        {
          "output_type": "execute_result",
          "data": {
            "text/plain": [
              "82366.58354114713"
            ]
          },
          "metadata": {},
          "execution_count": 19
        }
      ],
      "source": [
        "df['EstimatedSalary'].mean()"
      ]
    },
    {
      "cell_type": "code",
      "execution_count": 16,
      "metadata": {
        "id": "hf-94GcQrT6G"
      },
      "outputs": [],
      "source": [
        "df['EstimatedSalary'].fillna(df['EstimatedSalary'].mean(),inplace=True)"
      ]
    },
    {
      "cell_type": "code",
      "execution_count": 18,
      "metadata": {
        "id": "eg352clKrT6G"
      },
      "outputs": [],
      "source": [
        "df['Age'].fillna(df['Age'].mean(),inplace=True)"
      ]
    },
    {
      "cell_type": "code",
      "execution_count": 21,
      "metadata": {
        "colab": {
          "base_uri": "https://localhost:8080/",
          "height": 35
        },
        "id": "lJmknfjkrT6H",
        "outputId": "d889767b-e4fb-4ef8-ae13-a645daa1cd54"
      },
      "outputs": [
        {
          "output_type": "execute_result",
          "data": {
            "text/plain": [
              "'Italy'"
            ],
            "application/vnd.google.colaboratory.intrinsic+json": {
              "type": "string"
            }
          },
          "metadata": {},
          "execution_count": 21
        }
      ],
      "source": [
        "df['Country'].mode()[0]"
      ]
    },
    {
      "cell_type": "code",
      "execution_count": 23,
      "metadata": {
        "id": "XvZ341qwrT6H"
      },
      "outputs": [],
      "source": [
        "df['Gender'].fillna(df['Gender'].mode()[0],inplace=True)"
      ]
    },
    {
      "cell_type": "code",
      "execution_count": 24,
      "metadata": {
        "colab": {
          "base_uri": "https://localhost:8080/"
        },
        "id": "x9fP524XrT6H",
        "outputId": "9bfbe997-9a78-4bcf-d57d-e436ad6bc926"
      },
      "outputs": [
        {
          "output_type": "execute_result",
          "data": {
            "text/plain": [
              "User ID            False\n",
              "Date               False\n",
              "Country            False\n",
              "Gender             False\n",
              "Age                False\n",
              "EstimatedSalary    False\n",
              "Purchased          False\n",
              "dtype: bool"
            ]
          },
          "metadata": {},
          "execution_count": 24
        }
      ],
      "source": [
        "df.isnull().any()"
      ]
    },
    {
      "cell_type": "markdown",
      "metadata": {
        "id": "gbvcSQkBrT6H"
      },
      "source": [
        "#### Handle the categorical data"
      ]
    },
    {
      "cell_type": "code",
      "execution_count": 26,
      "metadata": {
        "colab": {
          "base_uri": "https://localhost:8080/"
        },
        "id": "1BtwXN1IrT6H",
        "outputId": "749d4d8e-a380-4c4b-f7ec-ab30d1d5aa43"
      },
      "outputs": [
        {
          "output_type": "execute_result",
          "data": {
            "text/plain": [
              "array(['France', 'Italy', 'Germany', ']Italy&', ']Germany&', 'Germany&'],\n",
              "      dtype=object)"
            ]
          },
          "metadata": {},
          "execution_count": 26
        }
      ],
      "source": [
        "df[\"Country\"].unique()"
      ]
    },
    {
      "cell_type": "code",
      "execution_count": 27,
      "metadata": {
        "id": "xuugdTNbrT6I"
      },
      "outputs": [],
      "source": [
        "# pip install tensorflow --user"
      ]
    },
    {
      "cell_type": "code",
      "execution_count": 28,
      "metadata": {
        "id": "jyKwz4VQrT6I"
      },
      "outputs": [],
      "source": [
        "# we can convert categorical data into numerical data\n",
        "# we can convert categorical data into binary data"
      ]
    },
    {
      "cell_type": "code",
      "execution_count": 30,
      "metadata": {
        "id": "MqPlfEd7rT6I"
      },
      "outputs": [],
      "source": [
        "from sklearn.compose import ColumnTransformer"
      ]
    },
    {
      "cell_type": "code",
      "execution_count": 31,
      "metadata": {
        "id": "r-dDGdk3rT6I"
      },
      "outputs": [],
      "source": [
        "from sklearn.pipeline import Pipeline"
      ]
    },
    {
      "cell_type": "code",
      "execution_count": 32,
      "metadata": {
        "id": "RYzyP_y-rT6I"
      },
      "outputs": [],
      "source": [
        "from sklearn.preprocessing import OneHotEncoder"
      ]
    },
    {
      "cell_type": "code",
      "execution_count": 33,
      "metadata": {
        "colab": {
          "base_uri": "https://localhost:8080/",
          "height": 206
        },
        "id": "EWH2pyILrT6I",
        "outputId": "478ffe6c-8381-45fe-801a-6eed71000e09"
      },
      "outputs": [
        {
          "output_type": "execute_result",
          "data": {
            "text/plain": [
              "    User ID        Date  Country  Gender  Age  EstimatedSalary  Purchased\n",
              "0  15624510  01-03-2012   France    Male   19          19000.0          0\n",
              "1  15810944  01-04-2012    Italy    Male   35          20000.0          0\n",
              "2  15668575  01-05-2012   France  Female   26          43000.0          0\n",
              "3  15603246  01-06-2012  Germany  Female   27          57000.0          0\n",
              "4  15804002  01-09-2012   France    Male   19          76000.0          0"
            ],
            "text/html": [
              "\n",
              "  <div id=\"df-ebec868c-e9e3-4575-b7a1-64bd926e8d91\">\n",
              "    <div class=\"colab-df-container\">\n",
              "      <div>\n",
              "<style scoped>\n",
              "    .dataframe tbody tr th:only-of-type {\n",
              "        vertical-align: middle;\n",
              "    }\n",
              "\n",
              "    .dataframe tbody tr th {\n",
              "        vertical-align: top;\n",
              "    }\n",
              "\n",
              "    .dataframe thead th {\n",
              "        text-align: right;\n",
              "    }\n",
              "</style>\n",
              "<table border=\"1\" class=\"dataframe\">\n",
              "  <thead>\n",
              "    <tr style=\"text-align: right;\">\n",
              "      <th></th>\n",
              "      <th>User ID</th>\n",
              "      <th>Date</th>\n",
              "      <th>Country</th>\n",
              "      <th>Gender</th>\n",
              "      <th>Age</th>\n",
              "      <th>EstimatedSalary</th>\n",
              "      <th>Purchased</th>\n",
              "    </tr>\n",
              "  </thead>\n",
              "  <tbody>\n",
              "    <tr>\n",
              "      <th>0</th>\n",
              "      <td>15624510</td>\n",
              "      <td>01-03-2012</td>\n",
              "      <td>France</td>\n",
              "      <td>Male</td>\n",
              "      <td>19</td>\n",
              "      <td>19000.0</td>\n",
              "      <td>0</td>\n",
              "    </tr>\n",
              "    <tr>\n",
              "      <th>1</th>\n",
              "      <td>15810944</td>\n",
              "      <td>01-04-2012</td>\n",
              "      <td>Italy</td>\n",
              "      <td>Male</td>\n",
              "      <td>35</td>\n",
              "      <td>20000.0</td>\n",
              "      <td>0</td>\n",
              "    </tr>\n",
              "    <tr>\n",
              "      <th>2</th>\n",
              "      <td>15668575</td>\n",
              "      <td>01-05-2012</td>\n",
              "      <td>France</td>\n",
              "      <td>Female</td>\n",
              "      <td>26</td>\n",
              "      <td>43000.0</td>\n",
              "      <td>0</td>\n",
              "    </tr>\n",
              "    <tr>\n",
              "      <th>3</th>\n",
              "      <td>15603246</td>\n",
              "      <td>01-06-2012</td>\n",
              "      <td>Germany</td>\n",
              "      <td>Female</td>\n",
              "      <td>27</td>\n",
              "      <td>57000.0</td>\n",
              "      <td>0</td>\n",
              "    </tr>\n",
              "    <tr>\n",
              "      <th>4</th>\n",
              "      <td>15804002</td>\n",
              "      <td>01-09-2012</td>\n",
              "      <td>France</td>\n",
              "      <td>Male</td>\n",
              "      <td>19</td>\n",
              "      <td>76000.0</td>\n",
              "      <td>0</td>\n",
              "    </tr>\n",
              "  </tbody>\n",
              "</table>\n",
              "</div>\n",
              "      <button class=\"colab-df-convert\" onclick=\"convertToInteractive('df-ebec868c-e9e3-4575-b7a1-64bd926e8d91')\"\n",
              "              title=\"Convert this dataframe to an interactive table.\"\n",
              "              style=\"display:none;\">\n",
              "        \n",
              "  <svg xmlns=\"http://www.w3.org/2000/svg\" height=\"24px\"viewBox=\"0 0 24 24\"\n",
              "       width=\"24px\">\n",
              "    <path d=\"M0 0h24v24H0V0z\" fill=\"none\"/>\n",
              "    <path d=\"M18.56 5.44l.94 2.06.94-2.06 2.06-.94-2.06-.94-.94-2.06-.94 2.06-2.06.94zm-11 1L8.5 8.5l.94-2.06 2.06-.94-2.06-.94L8.5 2.5l-.94 2.06-2.06.94zm10 10l.94 2.06.94-2.06 2.06-.94-2.06-.94-.94-2.06-.94 2.06-2.06.94z\"/><path d=\"M17.41 7.96l-1.37-1.37c-.4-.4-.92-.59-1.43-.59-.52 0-1.04.2-1.43.59L10.3 9.45l-7.72 7.72c-.78.78-.78 2.05 0 2.83L4 21.41c.39.39.9.59 1.41.59.51 0 1.02-.2 1.41-.59l7.78-7.78 2.81-2.81c.8-.78.8-2.07 0-2.86zM5.41 20L4 18.59l7.72-7.72 1.47 1.35L5.41 20z\"/>\n",
              "  </svg>\n",
              "      </button>\n",
              "      \n",
              "  <style>\n",
              "    .colab-df-container {\n",
              "      display:flex;\n",
              "      flex-wrap:wrap;\n",
              "      gap: 12px;\n",
              "    }\n",
              "\n",
              "    .colab-df-convert {\n",
              "      background-color: #E8F0FE;\n",
              "      border: none;\n",
              "      border-radius: 50%;\n",
              "      cursor: pointer;\n",
              "      display: none;\n",
              "      fill: #1967D2;\n",
              "      height: 32px;\n",
              "      padding: 0 0 0 0;\n",
              "      width: 32px;\n",
              "    }\n",
              "\n",
              "    .colab-df-convert:hover {\n",
              "      background-color: #E2EBFA;\n",
              "      box-shadow: 0px 1px 2px rgba(60, 64, 67, 0.3), 0px 1px 3px 1px rgba(60, 64, 67, 0.15);\n",
              "      fill: #174EA6;\n",
              "    }\n",
              "\n",
              "    [theme=dark] .colab-df-convert {\n",
              "      background-color: #3B4455;\n",
              "      fill: #D2E3FC;\n",
              "    }\n",
              "\n",
              "    [theme=dark] .colab-df-convert:hover {\n",
              "      background-color: #434B5C;\n",
              "      box-shadow: 0px 1px 3px 1px rgba(0, 0, 0, 0.15);\n",
              "      filter: drop-shadow(0px 1px 2px rgba(0, 0, 0, 0.3));\n",
              "      fill: #FFFFFF;\n",
              "    }\n",
              "  </style>\n",
              "\n",
              "      <script>\n",
              "        const buttonEl =\n",
              "          document.querySelector('#df-ebec868c-e9e3-4575-b7a1-64bd926e8d91 button.colab-df-convert');\n",
              "        buttonEl.style.display =\n",
              "          google.colab.kernel.accessAllowed ? 'block' : 'none';\n",
              "\n",
              "        async function convertToInteractive(key) {\n",
              "          const element = document.querySelector('#df-ebec868c-e9e3-4575-b7a1-64bd926e8d91');\n",
              "          const dataTable =\n",
              "            await google.colab.kernel.invokeFunction('convertToInteractive',\n",
              "                                                     [key], {});\n",
              "          if (!dataTable) return;\n",
              "\n",
              "          const docLinkHtml = 'Like what you see? Visit the ' +\n",
              "            '<a target=\"_blank\" href=https://colab.research.google.com/notebooks/data_table.ipynb>data table notebook</a>'\n",
              "            + ' to learn more about interactive tables.';\n",
              "          element.innerHTML = '';\n",
              "          dataTable['output_type'] = 'display_data';\n",
              "          await google.colab.output.renderOutput(dataTable, element);\n",
              "          const docLink = document.createElement('div');\n",
              "          docLink.innerHTML = docLinkHtml;\n",
              "          element.appendChild(docLink);\n",
              "        }\n",
              "      </script>\n",
              "    </div>\n",
              "  </div>\n",
              "  "
            ]
          },
          "metadata": {},
          "execution_count": 33
        }
      ],
      "source": [
        "df.head()"
      ]
    },
    {
      "cell_type": "code",
      "execution_count": 34,
      "metadata": {
        "id": "mLpdWiswrT6J"
      },
      "outputs": [],
      "source": [
        "x = df.iloc[:,0:4].values  # x is independant variables\n",
        "# .values is used to convert dataframe to numpy array"
      ]
    },
    {
      "cell_type": "code",
      "execution_count": 35,
      "metadata": {
        "id": "_UAx5Yz5rT6J"
      },
      "outputs": [],
      "source": [
        "y = df.iloc[:,4:5].values"
      ]
    },
    {
      "cell_type": "code",
      "execution_count": 36,
      "metadata": {
        "colab": {
          "base_uri": "https://localhost:8080/"
        },
        "id": "7tPVNHobrT6J",
        "outputId": "29037a45-da13-4b7f-e7d7-32d49e5f351c"
      },
      "outputs": [
        {
          "output_type": "execute_result",
          "data": {
            "text/plain": [
              "(403, 4)"
            ]
          },
          "metadata": {},
          "execution_count": 36
        }
      ],
      "source": [
        "x.shape"
      ]
    },
    {
      "cell_type": "code",
      "execution_count": 37,
      "metadata": {
        "colab": {
          "base_uri": "https://localhost:8080/"
        },
        "id": "Cmz7rfA4rT6J",
        "outputId": "217a2a41-0ce1-4f42-864b-77030fc0482c"
      },
      "outputs": [
        {
          "output_type": "execute_result",
          "data": {
            "text/plain": [
              "(403, 1)"
            ]
          },
          "metadata": {},
          "execution_count": 37
        }
      ],
      "source": [
        "y.shape"
      ]
    },
    {
      "cell_type": "code",
      "execution_count": 38,
      "metadata": {
        "id": "mcP7BCS8rT6J"
      },
      "outputs": [],
      "source": [
        "ct = ColumnTransformer([(\"oh\",OneHotEncoder(),[3])],remainder=\"passthrough\")"
      ]
    },
    {
      "cell_type": "code",
      "execution_count": 39,
      "metadata": {
        "id": "5vRY1VXXrT6J"
      },
      "outputs": [],
      "source": [
        "x = ct.fit_transform(x)"
      ]
    },
    {
      "cell_type": "code",
      "execution_count": 41,
      "metadata": {
        "colab": {
          "base_uri": "https://localhost:8080/"
        },
        "id": "1cxUASAOrT6J",
        "outputId": "ca664cd1-d6ce-4e2e-98cc-2bdc14967a80"
      },
      "outputs": [
        {
          "output_type": "execute_result",
          "data": {
            "text/plain": [
              "(403, 5)"
            ]
          },
          "metadata": {},
          "execution_count": 41
        }
      ],
      "source": [
        "x.shape"
      ]
    },
    {
      "cell_type": "code",
      "execution_count": 43,
      "metadata": {
        "colab": {
          "base_uri": "https://localhost:8080/"
        },
        "id": "9TBXw-j_rT6J",
        "outputId": "e06f6066-de62-4b89-cd94-91c9b8103339"
      },
      "outputs": [
        {
          "output_type": "execute_result",
          "data": {
            "text/plain": [
              "array([[0.0, 1.0, 15624510, '01-03-2012', 'France'],\n",
              "       [0.0, 1.0, 15810944, '01-04-2012', 'Italy'],\n",
              "       [1.0, 0.0, 15668575, '01-05-2012', 'France'],\n",
              "       ...,\n",
              "       [1.0, 0.0, 15654296, '08-07-2013', 'Italy'],\n",
              "       [0.0, 1.0, 15755018, '08-08-2013', 'Germany'],\n",
              "       [1.0, 0.0, 15594041, '08-09-2013', 'Germany&']], dtype=object)"
            ]
          },
          "metadata": {},
          "execution_count": 43
        }
      ],
      "source": [
        "x"
      ]
    },
    {
      "cell_type": "code",
      "execution_count": 44,
      "metadata": {
        "id": "BhjC1VwKrT6K"
      },
      "outputs": [],
      "source": [
        "import joblib"
      ]
    },
    {
      "cell_type": "code",
      "execution_count": 45,
      "metadata": {
        "colab": {
          "base_uri": "https://localhost:8080/"
        },
        "id": "88OYELvrrT6K",
        "outputId": "59700295-772a-4627-9142-1e1b9243e556"
      },
      "outputs": [
        {
          "output_type": "execute_result",
          "data": {
            "text/plain": [
              "['startct.pkl']"
            ]
          },
          "metadata": {},
          "execution_count": 45
        }
      ],
      "source": [
        "joblib.dump(ct,\"startct.pkl\")"
      ]
    },
    {
      "cell_type": "markdown",
      "metadata": {
        "id": "cG27_HiCrT6K"
      },
      "source": [
        "#### Split your data into train and test"
      ]
    },
    {
      "cell_type": "code",
      "execution_count": 46,
      "metadata": {
        "id": "Bj4JX1nRrT6K"
      },
      "outputs": [],
      "source": [
        "from sklearn.model_selection import train_test_split"
      ]
    },
    {
      "cell_type": "code",
      "execution_count": 47,
      "metadata": {
        "id": "PzrzLlS_rT6K"
      },
      "outputs": [],
      "source": [
        "x_train,x_test,y_train,y_test = train_test_split(x,y,test_size=0.2,random_state=0)"
      ]
    },
    {
      "cell_type": "code",
      "execution_count": 48,
      "metadata": {
        "colab": {
          "base_uri": "https://localhost:8080/"
        },
        "id": "1aNVcMDKrT6K",
        "outputId": "6680142a-4e9f-42a5-b7ad-f38f168685f6"
      },
      "outputs": [
        {
          "output_type": "execute_result",
          "data": {
            "text/plain": [
              "(322, 5)"
            ]
          },
          "metadata": {},
          "execution_count": 48
        }
      ],
      "source": [
        "x_train.shape"
      ]
    },
    {
      "cell_type": "code",
      "execution_count": 49,
      "metadata": {
        "colab": {
          "base_uri": "https://localhost:8080/"
        },
        "id": "Kb4ni9-drT6K",
        "outputId": "78ac3139-a804-48e7-e352-1c04d3686824"
      },
      "outputs": [
        {
          "output_type": "execute_result",
          "data": {
            "text/plain": [
              "(81, 5)"
            ]
          },
          "metadata": {},
          "execution_count": 49
        }
      ],
      "source": [
        "x_test.shape"
      ]
    },
    {
      "cell_type": "code",
      "execution_count": 50,
      "metadata": {
        "id": "4hQadfFIrT6K"
      },
      "outputs": [],
      "source": [
        "a = [1,2,3,4,5,6,7,8,9,10]\n",
        "b = [0,1,0,1,0,1,0,1,0,1]\n"
      ]
    },
    {
      "cell_type": "code",
      "execution_count": 51,
      "metadata": {
        "colab": {
          "base_uri": "https://localhost:8080/"
        },
        "id": "4BZ-yZSdrT6K",
        "outputId": "2052beda-ca1a-410c-8220-79c7e7c01c42"
      },
      "outputs": [
        {
          "output_type": "stream",
          "name": "stdout",
          "text": [
            "[1, 4, 5, 3, 6, 10, 2, 9]\n",
            "[5, 9, 8, 2, 4, 1, 7, 10]\n",
            "[5, 1, 8, 2, 4, 9, 7, 10]\n",
            "[2, 10, 1, 7, 6, 9, 8, 3]\n",
            "[2, 7, 3, 10, 8, 9, 1, 4]\n"
          ]
        }
      ],
      "source": [
        "for i in range(5):\n",
        "    atrain,atest,btrain,btest = train_test_split(a,b,test_size=0.2)\n",
        "    print(atrain)"
      ]
    },
    {
      "cell_type": "code",
      "execution_count": 52,
      "metadata": {
        "colab": {
          "base_uri": "https://localhost:8080/"
        },
        "id": "oU-AFXWzrT6L",
        "outputId": "96b7c6bd-5534-49aa-9dd1-26d4f6f93634"
      },
      "outputs": [
        {
          "output_type": "stream",
          "name": "stdout",
          "text": [
            "[5, 10, 2, 7, 8, 4, 1, 6]\n",
            "[5, 10, 2, 7, 8, 4, 1, 6]\n",
            "[5, 10, 2, 7, 8, 4, 1, 6]\n",
            "[5, 10, 2, 7, 8, 4, 1, 6]\n",
            "[5, 10, 2, 7, 8, 4, 1, 6]\n"
          ]
        }
      ],
      "source": [
        "for i in range(5):\n",
        "    atrain,atest,btrain,btest = train_test_split(a,b,test_size=0.2,random_state=0)\n",
        "    print(atrain)"
      ]
    },
    {
      "cell_type": "markdown",
      "metadata": {
        "id": "WeSiUFX3rT6L"
      },
      "source": [
        "#### Feature scaling"
      ]
    },
    {
      "cell_type": "code",
      "execution_count": 54,
      "metadata": {
        "id": "ChtZ57gxrT6L"
      },
      "outputs": [],
      "source": [
        "from sklearn.preprocessing import StandardScaler"
      ]
    },
    {
      "cell_type": "code",
      "execution_count": 55,
      "metadata": {
        "id": "Tl0WTna3rT6L"
      },
      "outputs": [],
      "source": [
        "sc = StandardScaler()"
      ]
    },
    {
      "cell_type": "code",
      "execution_count": 59,
      "metadata": {
        "colab": {
          "base_uri": "https://localhost:8080/"
        },
        "id": "bmUouWDBrT6M",
        "outputId": "b7ac5316-3e4f-46db-b351-1d5f4160400c"
      },
      "outputs": [
        {
          "output_type": "execute_result",
          "data": {
            "text/plain": [
              "array([[1.0, 0.0, 15680243, '10/16/2012', 'Germany'],\n",
              "       [1.0, 0.0, 15575247, '4/24/2013', 'Italy'],\n",
              "       [1.0, 0.0, 15789109, '3/28/2012', 'France'],\n",
              "       [1.0, 0.0, 15667265, '4/25/2012', 'Germany'],\n",
              "       [0.0, 1.0, 15718071, '04-05-2012', 'Italy'],\n",
              "       [0.0, 1.0, 15625395, '03-08-2013', 'Germany'],\n",
              "       [1.0, 0.0, 15738448, '10/15/2012', 'France'],\n",
              "       [1.0, 0.0, 15691808, '12-03-2012', 'Italy'],\n",
              "       [0.0, 1.0, 15617134, '7/26/2012', 'Germany'],\n",
              "       [1.0, 0.0, 15566689, '03-12-2013', 'Italy'],\n",
              "       [0.0, 1.0, 15689425, '2/27/2012', 'France'],\n",
              "       [0.0, 1.0, 15671249, '6/25/2013', 'France'],\n",
              "       [0.0, 1.0, 15685346, '11/30/2012', 'Italy'],\n",
              "       [0.0, 1.0, 15578006, '7/17/2012', 'Italy'],\n",
              "       [0.0, 1.0, 15746139, '1/20/2012', 'Italy'],\n",
              "       [0.0, 1.0, 15674331, '4/22/2013', 'Italy'],\n",
              "       [0.0, 1.0, 15721592, '1/29/2013', 'Germany'],\n",
              "       [1.0, 0.0, 15666141, '7/25/2012', 'Italy'],\n",
              "       [1.0, 0.0, 15644296, '09-12-2012', 'Italy'],\n",
              "       [1.0, 0.0, 15794661, '09-10-2012', 'Italy'],\n",
              "       [0.0, 1.0, 15746737, '4/23/2012', 'Italy'],\n",
              "       [1.0, 0.0, 15757632, '08-02-2013', 'Germany'],\n",
              "       [0.0, 1.0, 15807909, '7/24/2012', 'France'],\n",
              "       [0.0, 1.0, 15729908, '5/22/2013', 'Italy'],\n",
              "       [1.0, 0.0, 15614420, '9/13/2012', 'France'],\n",
              "       [0.0, 1.0, 15577514, '6/14/2013', 'France'],\n",
              "       [0.0, 1.0, 15605327, '8/13/2012', 'Germany'],\n",
              "       [0.0, 1.0, 15697686, '1/25/2012', 'Germany'],\n",
              "       [1.0, 0.0, 15779529, '11/13/2012', 'France'],\n",
              "       [0.0, 1.0, 15592877, '4/19/2012', 'Italy'],\n",
              "       [1.0, 0.0, 15584545, '5/30/2012', 'Italy'],\n",
              "       [0.0, 1.0, 15593715, '11/26/2012', 'Germany'],\n",
              "       [1.0, 0.0, 15800061, '7/16/2012', 'France'],\n",
              "       [0.0, 1.0, 15637593, '3/25/2013', 'France'],\n",
              "       [0.0, 1.0, 15766289, '5/25/2012', 'France'],\n",
              "       [1.0, 0.0, 15753861, '04-09-2013', 'France'],\n",
              "       [0.0, 1.0, 15614187, '12-10-2012', 'Italy'],\n",
              "       [0.0, 1.0, 15715160, '10-04-2012', 'Germany'],\n",
              "       [0.0, 1.0, 15745083, '10/17/2012', 'Germany'],\n",
              "       [0.0, 1.0, 15814004, '3/29/2012', 'France'],\n",
              "       [1.0, 0.0, 15775590, '12/31/2012', 'Italy'],\n",
              "       [1.0, 0.0, 15614827, '8/31/2012', 'Italy'],\n",
              "       [0.0, 1.0, 15794493, '1/15/2013', 'France'],\n",
              "       [1.0, 0.0, 15598044, '01-11-2012', 'France'],\n",
              "       [0.0, 1.0, 15810944, '01-04-2012', 'Italy'],\n",
              "       [0.0, 1.0, 15673539, '3/14/2013', 'Germany'],\n",
              "       [0.0, 1.0, 15684801, '05-11-2012', 'Germany'],\n",
              "       [1.0, 0.0, 15654901, '3/21/2012', 'Germany'],\n",
              "       [0.0, 1.0, 15762605, '8/17/2012', 'Germany'],\n",
              "       [0.0, 1.0, 15664907, '05-10-2013', 'Germany'],\n",
              "       [1.0, 0.0, 15598840, '8/20/2012', 'Germany'],\n",
              "       [0.0, 1.0, 15791373, '02-06-2013', 'Germany'],\n",
              "       [0.0, 1.0, 15586757, '03-06-2013', 'Germany'],\n",
              "       [1.0, 0.0, 15746422, '7/31/2012', 'Italy'],\n",
              "       [1.0, 0.0, 15639576, '05-01-2013', 'France'],\n",
              "       [1.0, 0.0, 15594041, '08-09-2013', 'Germany&'],\n",
              "       [1.0, 0.0, 15678168, '6/29/2012', 'Italy'],\n",
              "       [1.0, 0.0, 15619407, '12-11-2012', 'Germany'],\n",
              "       [1.0, 0.0, 15744919, '3/19/2012', 'Italy'],\n",
              "       [1.0, 0.0, 15570769, '1/18/2012', 'Italy'],\n",
              "       [0.0, 1.0, 15792818, '02-09-2012', 'France'],\n",
              "       [0.0, 1.0, 15639277, '03-08-2012', 'Germany'],\n",
              "       [0.0, 1.0, 15638646, '2/26/2013', 'Italy'],\n",
              "       [1.0, 0.0, 15610140, '8/14/2012', 'Germany'],\n",
              "       [0.0, 1.0, 15804002, '01-09-2012', 'France'],\n",
              "       [1.0, 0.0, 15724536, '11-06-2012', 'Italy'],\n",
              "       [0.0, 1.0, 15685536, '2/21/2013', 'Italy'],\n",
              "       [0.0, 1.0, 15760570, '03-11-2013', 'Italy'],\n",
              "       [1.0, 0.0, 15807525, '6/21/2013', 'Italy'],\n",
              "       [0.0, 1.0, 15728773, '01-10-2012', 'Italy'],\n",
              "       [0.0, 1.0, 15757837, '8/27/2012', 'France'],\n",
              "       [1.0, 0.0, 15579781, '09-05-2012', 'France'],\n",
              "       [1.0, 0.0, 15679651, '08-07-2012', 'Italy'],\n",
              "       [1.0, 0.0, 15694829, '01-12-2012', 'Italy'],\n",
              "       [0.0, 1.0, 15714658, '02-03-2012', 'Italy'],\n",
              "       [1.0, 0.0, 15577178, '04-11-2012', 'France'],\n",
              "       [0.0, 1.0, 15649487, '02-01-2012', 'Germany'],\n",
              "       [0.0, 1.0, 15773447, '6/14/2012', 'Italy'],\n",
              "       [0.0, 1.0, 15628972, '1/24/2012', 'France'],\n",
              "       [1.0, 0.0, 15680752, '02-04-2013', 'France'],\n",
              "       [0.0, 1.0, 15680587, '1/22/2013', 'Italy']], dtype=object)"
            ]
          },
          "metadata": {},
          "execution_count": 59
        }
      ],
      "source": [
        "x_test"
      ]
    },
    {
      "cell_type": "code",
      "execution_count": 60,
      "metadata": {
        "colab": {
          "base_uri": "https://localhost:8080/"
        },
        "id": "zkG3-STFrT6M",
        "outputId": "22b211f4-a93b-4944-e11e-ad179c19cccd"
      },
      "outputs": [
        {
          "output_type": "execute_result",
          "data": {
            "text/plain": [
              "['startsc.pkl']"
            ]
          },
          "metadata": {},
          "execution_count": 60
        }
      ],
      "source": [
        "joblib.dump(sc,\"startsc.pkl\")"
      ]
    },
    {
      "cell_type": "code",
      "execution_count": 61,
      "metadata": {
        "colab": {
          "base_uri": "https://localhost:8080/"
        },
        "id": "IkDgnvR5rT6M",
        "outputId": "b697dcba-a9bd-4930-b70f-fc8eff1af739"
      },
      "outputs": [
        {
          "output_type": "execute_result",
          "data": {
            "text/plain": [
              "(322, 5)"
            ]
          },
          "metadata": {},
          "execution_count": 61
        }
      ],
      "source": [
        "x_train.shape"
      ]
    }
  ],
  "metadata": {
    "kernelspec": {
      "display_name": "Python 3",
      "language": "python",
      "name": "python3"
    },
    "language_info": {
      "codemirror_mode": {
        "name": "ipython",
        "version": 3
      },
      "file_extension": ".py",
      "mimetype": "text/x-python",
      "name": "python",
      "nbconvert_exporter": "python",
      "pygments_lexer": "ipython3",
      "version": "3.7.0"
    },
    "colab": {
      "provenance": []
    }
  },
  "nbformat": 4,
  "nbformat_minor": 0
}